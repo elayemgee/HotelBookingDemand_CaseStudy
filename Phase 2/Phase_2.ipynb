{
  "cells": [
    {
      "cell_type": "markdown",
      "metadata": {
        "id": "YWGRnOHVT0ti"
      },
      "source": [
        "# **S14 Group 14 - Hotel Booking Demand**\n",
        "Group Members\n",
        "* Annika Capada\n",
        "* Lauren Garcia\n",
        "* Angel Lou Yabut"
      ]
    },
    {
      "cell_type": "markdown",
      "metadata": {
        "id": "bMBXaxLnbmHL"
      },
      "source": [
        "# Research Question\n",
        "\n",
        "### Is there any pattern that is common with the booking date of hotels in Portugal?\n",
        "\n",
        "This question arose from exploring the lead time of the bookings and how it varied through different months. The dataset does not contain the initial dates of booking so in the next phase, we would like to create that variable and explore if the booking date shows any pattern.\n",
        "\n",
        "This research question was chosen so that if any pattern is identified in the booking date, then hotel guests can get a better idea of when to book their hotel stays and secure a hotel room. This question would also help hotel workers understand when more guests would arrive. This would allow them to prepare in advance and provide quality customer experience especially during busy times. Additionally, enforce strategies to maximize efficiency and profit depending on the month. \n",
        "\n",
        "To answer this question, we plan on using the time-series data modelling technique. Through this technique, we would like to observe how the booking date varies through months and years."
      ]
    },
    {
      "cell_type": "markdown",
      "metadata": {
        "id": "bddxsShuTN_f"
      },
      "source": [
        "# Data Modeling\n",
        "Perform the necessary steps in answering the research question that you have identified. In this section of the notebook, please take note of the following:\n",
        "* If needed, perform preprocessing techniques to transform the data to the appropriate representation before performing modelling to answer the research question. This may include binning, log transformations, conversion to one-hot encoding, normalization, standardization, interpolation, truncation, and feature engineering.\n",
        "* Use data modelling techniques that are discussed in class. The technique should be appropriate to answer the research question."
      ]
    },
    {
      "cell_type": "code",
      "execution_count": 6,
      "metadata": {
        "colab": {
          "base_uri": "https://localhost:8080/"
        },
        "id": "GXBBDP2Jxr4b",
        "outputId": "5e034842-c802-4e43-fecf-e8427b59b483"
      },
      "outputs": [
        {
          "name": "stdout",
          "output_type": "stream",
          "text": [
            "Looking in indexes: https://pypi.org/simple, https://us-python.pkg.dev/colab-wheels/public/simple/\n",
            "Requirement already satisfied: pmdarima in /usr/local/lib/python3.8/dist-packages (2.0.2)\n",
            "Requirement already satisfied: setuptools!=50.0.0,>=38.6.0 in /usr/local/lib/python3.8/dist-packages (from pmdarima) (57.4.0)\n",
            "Requirement already satisfied: numpy>=1.21.2 in /usr/local/lib/python3.8/dist-packages (from pmdarima) (1.21.6)\n",
            "Requirement already satisfied: scipy>=1.3.2 in /usr/local/lib/python3.8/dist-packages (from pmdarima) (1.7.3)\n",
            "Requirement already satisfied: urllib3 in /usr/local/lib/python3.8/dist-packages (from pmdarima) (1.24.3)\n",
            "Requirement already satisfied: pandas>=0.19 in /usr/local/lib/python3.8/dist-packages (from pmdarima) (1.3.5)\n",
            "Requirement already satisfied: joblib>=0.11 in /usr/local/lib/python3.8/dist-packages (from pmdarima) (1.2.0)\n",
            "Requirement already satisfied: Cython!=0.29.18,!=0.29.31,>=0.29 in /usr/local/lib/python3.8/dist-packages (from pmdarima) (0.29.32)\n",
            "Requirement already satisfied: scikit-learn>=0.22 in /usr/local/lib/python3.8/dist-packages (from pmdarima) (1.0.2)\n",
            "Requirement already satisfied: statsmodels>=0.13.2 in /usr/local/lib/python3.8/dist-packages (from pmdarima) (0.13.5)\n",
            "Requirement already satisfied: pytz>=2017.3 in /usr/local/lib/python3.8/dist-packages (from pandas>=0.19->pmdarima) (2022.6)\n",
            "Requirement already satisfied: python-dateutil>=2.7.3 in /usr/local/lib/python3.8/dist-packages (from pandas>=0.19->pmdarima) (2.8.2)\n",
            "Requirement already satisfied: six>=1.5 in /usr/local/lib/python3.8/dist-packages (from python-dateutil>=2.7.3->pandas>=0.19->pmdarima) (1.15.0)\n",
            "Requirement already satisfied: threadpoolctl>=2.0.0 in /usr/local/lib/python3.8/dist-packages (from scikit-learn>=0.22->pmdarima) (3.1.0)\n",
            "Requirement already satisfied: patsy>=0.5.2 in /usr/local/lib/python3.8/dist-packages (from statsmodels>=0.13.2->pmdarima) (0.5.3)\n",
            "Requirement already satisfied: packaging>=21.3 in /usr/local/lib/python3.8/dist-packages (from statsmodels>=0.13.2->pmdarima) (21.3)\n",
            "Requirement already satisfied: pyparsing!=3.0.5,>=2.0.2 in /usr/local/lib/python3.8/dist-packages (from packaging>=21.3->statsmodels>=0.13.2->pmdarima) (3.0.9)\n"
          ]
        }
      ],
      "source": [
        "! pip install pmdarima"
      ]
    },
    {
      "cell_type": "code",
      "execution_count": 7,
      "metadata": {
        "colab": {
          "base_uri": "https://localhost:8080/"
        },
        "id": "cGuuq-xaUByz",
        "outputId": "f64d16ac-0ce9-4da7-919a-7e2fafdec18c"
      },
      "outputs": [
        {
          "name": "stdout",
          "output_type": "stream",
          "text": [
            "Populating the interactive namespace from numpy and matplotlib\n"
          ]
        }
      ],
      "source": [
        "import numpy as np\n",
        "import pandas as pd\n",
        "import matplotlib.pyplot as plt\n",
        "import datetime\n",
        "import seaborn as sns\n",
        "\n",
        "from statsmodels.tsa.seasonal import seasonal_decompose\n",
        "from statsmodels.tsa.stattools import adfuller\n",
        "from pmdarima.arima import auto_arima\n",
        "\n",
        "%pylab inline"
      ]
    },
    {
      "cell_type": "markdown",
      "metadata": {
        "id": "04OzoQPoX03_"
      },
      "source": [
        "In this notebook, the dataset we will be using is the cleaned up data done in Phase 1. This data has already handled missing values and NaN values."
      ]
    },
    {
      "cell_type": "code",
      "execution_count": 8,
      "metadata": {
        "id": "5VzvZ6kOY2ta"
      },
      "outputs": [],
      "source": [
        "#reading the cleaned up data from Phase 1\n",
        "hbd_df = pd.read_csv(\"hbd_clean.csv\")"
      ]
    },
    {
      "cell_type": "markdown",
      "metadata": {
        "id": "_7CGbl0bYRXx"
      },
      "source": [
        "With the cleaned up data, we will only be looking at the bookings that have not been cancelled and where the guests were able to arrive at the hotel for their booking."
      ]
    },
    {
      "cell_type": "code",
      "execution_count": 9,
      "metadata": {
        "id": "oYzx-ekoZmYc"
      },
      "outputs": [],
      "source": [
        "confirmed_bookings = hbd_df[hbd_df[\"is_canceled\"] == 0]"
      ]
    },
    {
      "cell_type": "markdown",
      "metadata": {
        "id": "deVLdV3x5HuX"
      },
      "source": [
        "## Creating booking date variable"
      ]
    },
    {
      "cell_type": "markdown",
      "metadata": {
        "id": "ryUiKF8Pa9dM"
      },
      "source": [
        "Since we will be looking at the booking date, we need to first create the column itself as the original dataset did not have it in the first place. To do this, we look at the following variables:\n",
        "\n",
        "- **`lead_time`**: number of days that elapsed between the entering date of the booking into the PMS and the arrival date\n",
        "- **`arrival_date_year`**: year of arrival date\n",
        "- **`arrival_date_month`**: month of arrival date\n",
        "- **`arrival_date_day_of_month`**: day of arrival date\n",
        "\n"
      ]
    },
    {
      "cell_type": "markdown",
      "metadata": {
        "id": "ALZwgF_JebPC"
      },
      "source": [
        "The first step we do is combine the **`arrival_date_year`**, **`arrival_date_month`**, and **`arrival_date_day_of_month`** into  one datetime column. This column will now be known as **`arrival_date`**"
      ]
    },
    {
      "cell_type": "code",
      "execution_count": 10,
      "metadata": {
        "colab": {
          "base_uri": "https://localhost:8080/"
        },
        "id": "ZRjI6AjHZOwI",
        "outputId": "8486acd8-3a32-4dad-bd8f-b4882f81cdff"
      },
      "outputs": [
        {
          "name": "stderr",
          "output_type": "stream",
          "text": [
            "<ipython-input-10-4fa39647d7a5>:2: SettingWithCopyWarning: \n",
            "A value is trying to be set on a copy of a slice from a DataFrame.\n",
            "Try using .loc[row_indexer,col_indexer] = value instead\n",
            "\n",
            "See the caveats in the documentation: https://pandas.pydata.org/pandas-docs/stable/user_guide/indexing.html#returning-a-view-versus-a-copy\n",
            "  confirmed_bookings['arrival_date'] = confirmed_bookings[[\"arrival_date_year\",\"arrival_date_month\",\"arrival_date_day_of_month\"]].apply(lambda x: '/'.join(x.dropna().astype(str)),axis=1)\n",
            "<ipython-input-10-4fa39647d7a5>:3: SettingWithCopyWarning: \n",
            "A value is trying to be set on a copy of a slice from a DataFrame.\n",
            "Try using .loc[row_indexer,col_indexer] = value instead\n",
            "\n",
            "See the caveats in the documentation: https://pandas.pydata.org/pandas-docs/stable/user_guide/indexing.html#returning-a-view-versus-a-copy\n",
            "  confirmed_bookings['arrival_date'] = pd.to_datetime(confirmed_bookings['arrival_date'], format='%Y/%B/%d', errors='coerce')\n"
          ]
        },
        {
          "data": {
            "text/plain": [
              "0       2015-07-01\n",
              "1       2015-07-01\n",
              "2       2015-07-01\n",
              "3       2015-07-01\n",
              "4       2015-07-01\n",
              "           ...    \n",
              "86935   2017-08-30\n",
              "86936   2017-08-31\n",
              "86937   2017-08-31\n",
              "86938   2017-08-31\n",
              "86939   2017-08-29\n",
              "Name: arrival_date, Length: 62953, dtype: datetime64[ns]"
            ]
          },
          "execution_count": 10,
          "metadata": {},
          "output_type": "execute_result"
        }
      ],
      "source": [
        "#Combining different variables to create datetime of arrival date\n",
        "confirmed_bookings['arrival_date'] = confirmed_bookings[[\"arrival_date_year\",\"arrival_date_month\",\"arrival_date_day_of_month\"]].apply(lambda x: '/'.join(x.dropna().astype(str)),axis=1)\n",
        "confirmed_bookings['arrival_date'] = pd.to_datetime(confirmed_bookings['arrival_date'], format='%Y/%B/%d', errors='coerce')\n",
        "confirmed_bookings['arrival_date']"
      ]
    },
    {
      "cell_type": "markdown",
      "metadata": {
        "id": "DzMTyQ5CfZX9"
      },
      "source": [
        "After getting the actual date of booking, we will use the lead time and subract it from the arrival date to get a datetime variable of the booking date. This data will be stored in a new variable called **`booking_date`**."
      ]
    },
    {
      "cell_type": "code",
      "execution_count": 11,
      "metadata": {
        "colab": {
          "base_uri": "https://localhost:8080/"
        },
        "id": "9Bp3ExGTajHa",
        "outputId": "4d92c89e-88b3-4339-bd1c-ca32949b90e3"
      },
      "outputs": [
        {
          "name": "stderr",
          "output_type": "stream",
          "text": [
            "<ipython-input-11-73cb7e71c1dc>:2: SettingWithCopyWarning: \n",
            "A value is trying to be set on a copy of a slice from a DataFrame.\n",
            "Try using .loc[row_indexer,col_indexer] = value instead\n",
            "\n",
            "See the caveats in the documentation: https://pandas.pydata.org/pandas-docs/stable/user_guide/indexing.html#returning-a-view-versus-a-copy\n",
            "  confirmed_bookings[\"booking_date\"]=confirmed_bookings[\"arrival_date\"]-pd.to_timedelta(confirmed_bookings[\"lead_time\"], unit='D')\n"
          ]
        },
        {
          "data": {
            "text/plain": [
              "0       2014-07-24\n",
              "1       2013-06-24\n",
              "2       2015-06-24\n",
              "3       2015-06-18\n",
              "4       2015-06-17\n",
              "           ...    \n",
              "86935   2017-08-07\n",
              "86936   2017-05-21\n",
              "86937   2017-07-28\n",
              "86938   2017-05-14\n",
              "86939   2017-02-05\n",
              "Name: booking_date, Length: 62953, dtype: datetime64[ns]"
            ]
          },
          "execution_count": 11,
          "metadata": {},
          "output_type": "execute_result"
        }
      ],
      "source": [
        "#Getting booking date using the arrival date and lead time\n",
        "confirmed_bookings[\"booking_date\"]=confirmed_bookings[\"arrival_date\"]-pd.to_timedelta(confirmed_bookings[\"lead_time\"], unit='D')\n",
        "confirmed_bookings[\"booking_date\"]"
      ]
    },
    {
      "cell_type": "markdown",
      "metadata": {
        "id": "iCWXEr_oiJYc"
      },
      "source": [
        "## Creating the Date Range"
      ]
    },
    {
      "cell_type": "markdown",
      "metadata": {
        "id": "lIKkbuonjAaD"
      },
      "source": [
        "Using the earliest and latest booking date in the dataset, we can generate the daily range and store it into a new dataframe called **`bookings_perdate`**."
      ]
    },
    {
      "cell_type": "code",
      "execution_count": 12,
      "metadata": {
        "colab": {
          "base_uri": "https://localhost:8080/",
          "height": 419
        },
        "id": "TcXDEJb-x_E9",
        "outputId": "4bc38bc0-4ba0-4d1e-a779-7f666de8be24"
      },
      "outputs": [
        {
          "data": {
            "text/html": [
              "\n",
              "  <div id=\"df-9afe07a5-5f95-48c8-baf5-1ea31d57a71b\">\n",
              "    <div class=\"colab-df-container\">\n",
              "      <div>\n",
              "<style scoped>\n",
              "    .dataframe tbody tr th:only-of-type {\n",
              "        vertical-align: middle;\n",
              "    }\n",
              "\n",
              "    .dataframe tbody tr th {\n",
              "        vertical-align: top;\n",
              "    }\n",
              "\n",
              "    .dataframe thead th {\n",
              "        text-align: right;\n",
              "    }\n",
              "</style>\n",
              "<table border=\"1\" class=\"dataframe\">\n",
              "  <thead>\n",
              "    <tr style=\"text-align: right;\">\n",
              "      <th></th>\n",
              "      <th>booking_count</th>\n",
              "    </tr>\n",
              "  </thead>\n",
              "  <tbody>\n",
              "    <tr>\n",
              "      <th>2015-10-14</th>\n",
              "      <td>281</td>\n",
              "    </tr>\n",
              "    <tr>\n",
              "      <th>2016-02-03</th>\n",
              "      <td>252</td>\n",
              "    </tr>\n",
              "    <tr>\n",
              "      <th>2016-01-18</th>\n",
              "      <td>246</td>\n",
              "    </tr>\n",
              "    <tr>\n",
              "      <th>2016-01-14</th>\n",
              "      <td>229</td>\n",
              "    </tr>\n",
              "    <tr>\n",
              "      <th>2016-01-06</th>\n",
              "      <td>224</td>\n",
              "    </tr>\n",
              "    <tr>\n",
              "      <th>...</th>\n",
              "      <td>...</td>\n",
              "    </tr>\n",
              "    <tr>\n",
              "      <th>2014-10-13</th>\n",
              "      <td>1</td>\n",
              "    </tr>\n",
              "    <tr>\n",
              "      <th>2014-09-14</th>\n",
              "      <td>1</td>\n",
              "    </tr>\n",
              "    <tr>\n",
              "      <th>2014-04-18</th>\n",
              "      <td>1</td>\n",
              "    </tr>\n",
              "    <tr>\n",
              "      <th>2014-10-11</th>\n",
              "      <td>1</td>\n",
              "    </tr>\n",
              "    <tr>\n",
              "      <th>2014-07-24</th>\n",
              "      <td>1</td>\n",
              "    </tr>\n",
              "  </tbody>\n",
              "</table>\n",
              "<p>970 rows × 1 columns</p>\n",
              "</div>\n",
              "      <button class=\"colab-df-convert\" onclick=\"convertToInteractive('df-9afe07a5-5f95-48c8-baf5-1ea31d57a71b')\"\n",
              "              title=\"Convert this dataframe to an interactive table.\"\n",
              "              style=\"display:none;\">\n",
              "        \n",
              "  <svg xmlns=\"http://www.w3.org/2000/svg\" height=\"24px\"viewBox=\"0 0 24 24\"\n",
              "       width=\"24px\">\n",
              "    <path d=\"M0 0h24v24H0V0z\" fill=\"none\"/>\n",
              "    <path d=\"M18.56 5.44l.94 2.06.94-2.06 2.06-.94-2.06-.94-.94-2.06-.94 2.06-2.06.94zm-11 1L8.5 8.5l.94-2.06 2.06-.94-2.06-.94L8.5 2.5l-.94 2.06-2.06.94zm10 10l.94 2.06.94-2.06 2.06-.94-2.06-.94-.94-2.06-.94 2.06-2.06.94z\"/><path d=\"M17.41 7.96l-1.37-1.37c-.4-.4-.92-.59-1.43-.59-.52 0-1.04.2-1.43.59L10.3 9.45l-7.72 7.72c-.78.78-.78 2.05 0 2.83L4 21.41c.39.39.9.59 1.41.59.51 0 1.02-.2 1.41-.59l7.78-7.78 2.81-2.81c.8-.78.8-2.07 0-2.86zM5.41 20L4 18.59l7.72-7.72 1.47 1.35L5.41 20z\"/>\n",
              "  </svg>\n",
              "      </button>\n",
              "      \n",
              "  <style>\n",
              "    .colab-df-container {\n",
              "      display:flex;\n",
              "      flex-wrap:wrap;\n",
              "      gap: 12px;\n",
              "    }\n",
              "\n",
              "    .colab-df-convert {\n",
              "      background-color: #E8F0FE;\n",
              "      border: none;\n",
              "      border-radius: 50%;\n",
              "      cursor: pointer;\n",
              "      display: none;\n",
              "      fill: #1967D2;\n",
              "      height: 32px;\n",
              "      padding: 0 0 0 0;\n",
              "      width: 32px;\n",
              "    }\n",
              "\n",
              "    .colab-df-convert:hover {\n",
              "      background-color: #E2EBFA;\n",
              "      box-shadow: 0px 1px 2px rgba(60, 64, 67, 0.3), 0px 1px 3px 1px rgba(60, 64, 67, 0.15);\n",
              "      fill: #174EA6;\n",
              "    }\n",
              "\n",
              "    [theme=dark] .colab-df-convert {\n",
              "      background-color: #3B4455;\n",
              "      fill: #D2E3FC;\n",
              "    }\n",
              "\n",
              "    [theme=dark] .colab-df-convert:hover {\n",
              "      background-color: #434B5C;\n",
              "      box-shadow: 0px 1px 3px 1px rgba(0, 0, 0, 0.15);\n",
              "      filter: drop-shadow(0px 1px 2px rgba(0, 0, 0, 0.3));\n",
              "      fill: #FFFFFF;\n",
              "    }\n",
              "  </style>\n",
              "\n",
              "      <script>\n",
              "        const buttonEl =\n",
              "          document.querySelector('#df-9afe07a5-5f95-48c8-baf5-1ea31d57a71b button.colab-df-convert');\n",
              "        buttonEl.style.display =\n",
              "          google.colab.kernel.accessAllowed ? 'block' : 'none';\n",
              "\n",
              "        async function convertToInteractive(key) {\n",
              "          const element = document.querySelector('#df-9afe07a5-5f95-48c8-baf5-1ea31d57a71b');\n",
              "          const dataTable =\n",
              "            await google.colab.kernel.invokeFunction('convertToInteractive',\n",
              "                                                     [key], {});\n",
              "          if (!dataTable) return;\n",
              "\n",
              "          const docLinkHtml = 'Like what you see? Visit the ' +\n",
              "            '<a target=\"_blank\" href=https://colab.research.google.com/notebooks/data_table.ipynb>data table notebook</a>'\n",
              "            + ' to learn more about interactive tables.';\n",
              "          element.innerHTML = '';\n",
              "          dataTable['output_type'] = 'display_data';\n",
              "          await google.colab.output.renderOutput(dataTable, element);\n",
              "          const docLink = document.createElement('div');\n",
              "          docLink.innerHTML = docLinkHtml;\n",
              "          element.appendChild(docLink);\n",
              "        }\n",
              "      </script>\n",
              "    </div>\n",
              "  </div>\n",
              "  "
            ],
            "text/plain": [
              "            booking_count\n",
              "2015-10-14            281\n",
              "2016-02-03            252\n",
              "2016-01-18            246\n",
              "2016-01-14            229\n",
              "2016-01-06            224\n",
              "...                   ...\n",
              "2014-10-13              1\n",
              "2014-09-14              1\n",
              "2014-04-18              1\n",
              "2014-10-11              1\n",
              "2014-07-24              1\n",
              "\n",
              "[970 rows x 1 columns]"
            ]
          },
          "execution_count": 12,
          "metadata": {},
          "output_type": "execute_result"
        }
      ],
      "source": [
        "bookings_perdate = pd.DataFrame(confirmed_bookings['booking_date'].value_counts())\n",
        "bookings_perdate.columns = ['booking_count']\n",
        "bookings_perdate"
      ]
    },
    {
      "cell_type": "markdown",
      "metadata": {
        "id": "2YBzE-_rjKcO"
      },
      "source": [
        "Here we reformat the dataframe so that the booking_date is a column and the index is reset."
      ]
    },
    {
      "cell_type": "code",
      "execution_count": 13,
      "metadata": {
        "colab": {
          "base_uri": "https://localhost:8080/",
          "height": 419
        },
        "id": "RFsawULNiAyc",
        "outputId": "0748ad7b-169d-4ee6-e33b-df66fd6ef3bf"
      },
      "outputs": [
        {
          "data": {
            "text/html": [
              "\n",
              "  <div id=\"df-73b9b821-b08e-46ff-82d6-ebd2a07c08ce\">\n",
              "    <div class=\"colab-df-container\">\n",
              "      <div>\n",
              "<style scoped>\n",
              "    .dataframe tbody tr th:only-of-type {\n",
              "        vertical-align: middle;\n",
              "    }\n",
              "\n",
              "    .dataframe tbody tr th {\n",
              "        vertical-align: top;\n",
              "    }\n",
              "\n",
              "    .dataframe thead th {\n",
              "        text-align: right;\n",
              "    }\n",
              "</style>\n",
              "<table border=\"1\" class=\"dataframe\">\n",
              "  <thead>\n",
              "    <tr style=\"text-align: right;\">\n",
              "      <th></th>\n",
              "      <th>booking_date</th>\n",
              "      <th>booking_count</th>\n",
              "    </tr>\n",
              "  </thead>\n",
              "  <tbody>\n",
              "    <tr>\n",
              "      <th>0</th>\n",
              "      <td>2015-10-14</td>\n",
              "      <td>281</td>\n",
              "    </tr>\n",
              "    <tr>\n",
              "      <th>1</th>\n",
              "      <td>2016-02-03</td>\n",
              "      <td>252</td>\n",
              "    </tr>\n",
              "    <tr>\n",
              "      <th>2</th>\n",
              "      <td>2016-01-18</td>\n",
              "      <td>246</td>\n",
              "    </tr>\n",
              "    <tr>\n",
              "      <th>3</th>\n",
              "      <td>2016-01-14</td>\n",
              "      <td>229</td>\n",
              "    </tr>\n",
              "    <tr>\n",
              "      <th>4</th>\n",
              "      <td>2016-01-06</td>\n",
              "      <td>224</td>\n",
              "    </tr>\n",
              "    <tr>\n",
              "      <th>...</th>\n",
              "      <td>...</td>\n",
              "      <td>...</td>\n",
              "    </tr>\n",
              "    <tr>\n",
              "      <th>965</th>\n",
              "      <td>2014-10-13</td>\n",
              "      <td>1</td>\n",
              "    </tr>\n",
              "    <tr>\n",
              "      <th>966</th>\n",
              "      <td>2014-09-14</td>\n",
              "      <td>1</td>\n",
              "    </tr>\n",
              "    <tr>\n",
              "      <th>967</th>\n",
              "      <td>2014-04-18</td>\n",
              "      <td>1</td>\n",
              "    </tr>\n",
              "    <tr>\n",
              "      <th>968</th>\n",
              "      <td>2014-10-11</td>\n",
              "      <td>1</td>\n",
              "    </tr>\n",
              "    <tr>\n",
              "      <th>969</th>\n",
              "      <td>2014-07-24</td>\n",
              "      <td>1</td>\n",
              "    </tr>\n",
              "  </tbody>\n",
              "</table>\n",
              "<p>970 rows × 2 columns</p>\n",
              "</div>\n",
              "      <button class=\"colab-df-convert\" onclick=\"convertToInteractive('df-73b9b821-b08e-46ff-82d6-ebd2a07c08ce')\"\n",
              "              title=\"Convert this dataframe to an interactive table.\"\n",
              "              style=\"display:none;\">\n",
              "        \n",
              "  <svg xmlns=\"http://www.w3.org/2000/svg\" height=\"24px\"viewBox=\"0 0 24 24\"\n",
              "       width=\"24px\">\n",
              "    <path d=\"M0 0h24v24H0V0z\" fill=\"none\"/>\n",
              "    <path d=\"M18.56 5.44l.94 2.06.94-2.06 2.06-.94-2.06-.94-.94-2.06-.94 2.06-2.06.94zm-11 1L8.5 8.5l.94-2.06 2.06-.94-2.06-.94L8.5 2.5l-.94 2.06-2.06.94zm10 10l.94 2.06.94-2.06 2.06-.94-2.06-.94-.94-2.06-.94 2.06-2.06.94z\"/><path d=\"M17.41 7.96l-1.37-1.37c-.4-.4-.92-.59-1.43-.59-.52 0-1.04.2-1.43.59L10.3 9.45l-7.72 7.72c-.78.78-.78 2.05 0 2.83L4 21.41c.39.39.9.59 1.41.59.51 0 1.02-.2 1.41-.59l7.78-7.78 2.81-2.81c.8-.78.8-2.07 0-2.86zM5.41 20L4 18.59l7.72-7.72 1.47 1.35L5.41 20z\"/>\n",
              "  </svg>\n",
              "      </button>\n",
              "      \n",
              "  <style>\n",
              "    .colab-df-container {\n",
              "      display:flex;\n",
              "      flex-wrap:wrap;\n",
              "      gap: 12px;\n",
              "    }\n",
              "\n",
              "    .colab-df-convert {\n",
              "      background-color: #E8F0FE;\n",
              "      border: none;\n",
              "      border-radius: 50%;\n",
              "      cursor: pointer;\n",
              "      display: none;\n",
              "      fill: #1967D2;\n",
              "      height: 32px;\n",
              "      padding: 0 0 0 0;\n",
              "      width: 32px;\n",
              "    }\n",
              "\n",
              "    .colab-df-convert:hover {\n",
              "      background-color: #E2EBFA;\n",
              "      box-shadow: 0px 1px 2px rgba(60, 64, 67, 0.3), 0px 1px 3px 1px rgba(60, 64, 67, 0.15);\n",
              "      fill: #174EA6;\n",
              "    }\n",
              "\n",
              "    [theme=dark] .colab-df-convert {\n",
              "      background-color: #3B4455;\n",
              "      fill: #D2E3FC;\n",
              "    }\n",
              "\n",
              "    [theme=dark] .colab-df-convert:hover {\n",
              "      background-color: #434B5C;\n",
              "      box-shadow: 0px 1px 3px 1px rgba(0, 0, 0, 0.15);\n",
              "      filter: drop-shadow(0px 1px 2px rgba(0, 0, 0, 0.3));\n",
              "      fill: #FFFFFF;\n",
              "    }\n",
              "  </style>\n",
              "\n",
              "      <script>\n",
              "        const buttonEl =\n",
              "          document.querySelector('#df-73b9b821-b08e-46ff-82d6-ebd2a07c08ce button.colab-df-convert');\n",
              "        buttonEl.style.display =\n",
              "          google.colab.kernel.accessAllowed ? 'block' : 'none';\n",
              "\n",
              "        async function convertToInteractive(key) {\n",
              "          const element = document.querySelector('#df-73b9b821-b08e-46ff-82d6-ebd2a07c08ce');\n",
              "          const dataTable =\n",
              "            await google.colab.kernel.invokeFunction('convertToInteractive',\n",
              "                                                     [key], {});\n",
              "          if (!dataTable) return;\n",
              "\n",
              "          const docLinkHtml = 'Like what you see? Visit the ' +\n",
              "            '<a target=\"_blank\" href=https://colab.research.google.com/notebooks/data_table.ipynb>data table notebook</a>'\n",
              "            + ' to learn more about interactive tables.';\n",
              "          element.innerHTML = '';\n",
              "          dataTable['output_type'] = 'display_data';\n",
              "          await google.colab.output.renderOutput(dataTable, element);\n",
              "          const docLink = document.createElement('div');\n",
              "          docLink.innerHTML = docLinkHtml;\n",
              "          element.appendChild(docLink);\n",
              "        }\n",
              "      </script>\n",
              "    </div>\n",
              "  </div>\n",
              "  "
            ],
            "text/plain": [
              "    booking_date  booking_count\n",
              "0     2015-10-14            281\n",
              "1     2016-02-03            252\n",
              "2     2016-01-18            246\n",
              "3     2016-01-14            229\n",
              "4     2016-01-06            224\n",
              "..           ...            ...\n",
              "965   2014-10-13              1\n",
              "966   2014-09-14              1\n",
              "967   2014-04-18              1\n",
              "968   2014-10-11              1\n",
              "969   2014-07-24              1\n",
              "\n",
              "[970 rows x 2 columns]"
            ]
          },
          "execution_count": 13,
          "metadata": {},
          "output_type": "execute_result"
        }
      ],
      "source": [
        "bookings_perdate = pd.DataFrame(confirmed_bookings['booking_date'].value_counts())\n",
        "bookings_perdate.columns = ['booking_count']\n",
        "bookings_perdate.reset_index(inplace = True)\n",
        "bookings_perdate.rename(columns = {'index':'booking_date'}, inplace = True)\n",
        "bookings_perdate"
      ]
    },
    {
      "cell_type": "markdown",
      "metadata": {
        "id": "0myPsZrVlwms"
      },
      "source": [
        "With `value_counts()`, we can easily count per date occurrence in the series.\n",
        "\n",
        "Currently, the table above is not set in ascending order. We can generate a date range from the earliest date to the last date in the data using `pd.date_range()`.\n"
      ]
    },
    {
      "cell_type": "code",
      "execution_count": 14,
      "metadata": {
        "colab": {
          "base_uri": "https://localhost:8080/"
        },
        "id": "EqwxviXmi2rD",
        "outputId": "b82425a6-a059-4356-f741-0977074fc860"
      },
      "outputs": [
        {
          "data": {
            "text/plain": [
              "Timestamp('2013-06-24 00:00:00')"
            ]
          },
          "execution_count": 14,
          "metadata": {},
          "output_type": "execute_result"
        }
      ],
      "source": [
        "bookings_perdate.booking_date.min()"
      ]
    },
    {
      "cell_type": "code",
      "execution_count": 15,
      "metadata": {
        "colab": {
          "base_uri": "https://localhost:8080/"
        },
        "id": "4FOx2Frki5-H",
        "outputId": "20eb2b32-96b5-4ebe-da76-2bd47a0062f6"
      },
      "outputs": [
        {
          "data": {
            "text/plain": [
              "Timestamp('2017-08-31 00:00:00')"
            ]
          },
          "execution_count": 15,
          "metadata": {},
          "output_type": "execute_result"
        }
      ],
      "source": [
        "bookings_perdate.booking_date.max()"
      ]
    },
    {
      "cell_type": "code",
      "execution_count": 16,
      "metadata": {
        "colab": {
          "base_uri": "https://localhost:8080/"
        },
        "id": "G6hXSg3kjHAx",
        "outputId": "8095de8d-7bf5-48de-edcd-03cc5092a148"
      },
      "outputs": [
        {
          "data": {
            "text/plain": [
              "DatetimeIndex(['2013-06-24', '2013-06-25', '2013-06-26', '2013-06-27',\n",
              "               '2013-06-28', '2013-06-29', '2013-06-30', '2013-07-01',\n",
              "               '2013-07-02', '2013-07-03',\n",
              "               ...\n",
              "               '2017-08-22', '2017-08-23', '2017-08-24', '2017-08-25',\n",
              "               '2017-08-26', '2017-08-27', '2017-08-28', '2017-08-29',\n",
              "               '2017-08-30', '2017-08-31'],\n",
              "              dtype='datetime64[ns]', length=1530, freq='D')"
            ]
          },
          "execution_count": 16,
          "metadata": {},
          "output_type": "execute_result"
        }
      ],
      "source": [
        "booking_date_range = pd.date_range(start=bookings_perdate.booking_date.min(), \n",
        "                           end=bookings_perdate.booking_date.max(),\n",
        "                           freq='D'\n",
        "                          )\n",
        "booking_date_range"
      ]
    },
    {
      "cell_type": "markdown",
      "metadata": {
        "id": "UDNguGfSnMe-"
      },
      "source": [
        "As we can see from the date range, the earliest date in the dataset goes back to a date in 2013 while the latest date goes up to 2017. Let's plot these dates and see how the number of bookings vary through the years."
      ]
    },
    {
      "cell_type": "code",
      "execution_count": 17,
      "metadata": {
        "colab": {
          "base_uri": "https://localhost:8080/",
          "height": 409
        },
        "id": "K8bRUAmKjkuP",
        "outputId": "0b74ef05-29b8-40f2-9a4e-14ef4008770a"
      },
      "outputs": [
        {
          "data": {
            "text/plain": [
              "Text(0, 0.5, 'Number of bookings')"
            ]
          },
          "execution_count": 17,
          "metadata": {},
          "output_type": "execute_result"
        },
        {
          "data": {
            "image/png": "[encoded data removed]",
            "text/plain": [
              "<Figure size 576x432 with 1 Axes>"
            ]
          },
          "metadata": {
            "needs_background": "light"
          },
          "output_type": "display_data"
        }
      ],
      "source": [
        "ax = bookings_perdate.plot(x = 'booking_date', figsize=(8, 6))\n",
        "ax.set_title('Portugal Hotel Bookings')\n",
        "ax.set_ylabel('Number of bookings')"
      ]
    },
    {
      "cell_type": "markdown",
      "metadata": {
        "id": "YzO_CMgBq9a0"
      },
      "source": [
        "The plot table seems to have more bookings from 2015 to 2017. Let's view the data range of the arrival dates to see if there's any connection to this."
      ]
    },
    {
      "cell_type": "code",
      "execution_count": 18,
      "metadata": {
        "colab": {
          "base_uri": "https://localhost:8080/"
        },
        "id": "D-LPilV8pZFL",
        "outputId": "286804c7-e7b0-4120-c95b-c6811b498093"
      },
      "outputs": [
        {
          "data": {
            "text/plain": [
              "DatetimeIndex(['2015-07-01', '2015-07-02', '2015-07-03', '2015-07-04',\n",
              "               '2015-07-05', '2015-07-06', '2015-07-07', '2015-07-08',\n",
              "               '2015-07-09', '2015-07-10',\n",
              "               ...\n",
              "               '2017-08-22', '2017-08-23', '2017-08-24', '2017-08-25',\n",
              "               '2017-08-26', '2017-08-27', '2017-08-28', '2017-08-29',\n",
              "               '2017-08-30', '2017-08-31'],\n",
              "              dtype='datetime64[ns]', length=793, freq='D')"
            ]
          },
          "execution_count": 18,
          "metadata": {},
          "output_type": "execute_result"
        }
      ],
      "source": [
        "arrival_date_range = pd.date_range(start=confirmed_bookings.arrival_date.min(), \n",
        "                           end=confirmed_bookings.arrival_date.max(),\n",
        "                           freq='D'\n",
        "                          )\n",
        "arrival_date_range"
      ]
    },
    {
      "cell_type": "markdown",
      "metadata": {
        "id": "YJnawZ9MoF9V"
      },
      "source": [
        "In the plot table, we can see that the number of bookings were very few to none from 2013 to 2014. Considering that the cleaned up dataset contained the arrival dates of guests between only 2015 and 2017, this plot table shows that there are very few people who book their hotel rooms as much as 2 years in advance.\n",
        "\n",
        "We also notice that there's a spike around the beginning of 2015 and the number of bookings is at its highest in 2016. This could mean that more people book at a date that's closer to their arrival date which could be within a year."
      ]
    },
    {
      "cell_type": "markdown",
      "metadata": {
        "id": "ckodQDyATeQG"
      },
      "source": [
        "# Statistical Inferencing\n",
        "Perform hypothesis testing to support your answer to the research question. In this section of the notebook, please take note of the following:\n",
        "* Use statistical inference methods discussed in class.\n",
        "* Properly state the hypotheses.\n",
        "* Show necessary pre-processing steps before computing for the p-value.\n",
        "* Explicitly mention important values such as the resulting p-value and the significance level.\n",
        "\n",
        "Note that there might be a need to check and prove if the data is from a normal distribution to perform some statistical inference techniques."
      ]
    },
    {
      "cell_type": "markdown",
      "metadata": {
        "id": "43jBcmmGdHx7"
      },
      "source": [
        "## Hypotheses\n",
        "To recap, our reserach question is:\n",
        "\"Is there any pattern that is common with the booking date of resort and city hotels?\"\n",
        "\n",
        "To answer this question, we will be looking at the stationarity of the time series to see if there is a trend.\n",
        "\n",
        "**Null**: There is a unit root in the in the booking dates. The time series of booking dates is not stationary.\n",
        "\n",
        "**Alternative**: There is no unit root in the booking dates.The time series of the booking dates is stationary."
      ]
    },
    {
      "cell_type": "markdown",
      "metadata": {
        "id": "rlLiJDXSVrXX"
      },
      "source": [
        "## Daily Moving Average\n",
        "\n",
        "Here, we will compute for the daily moving aggregate within a window of 28 days. This is so that we can take into account information from past dates and allow the time series to be smoothened, making trend more visible."
      ]
    },
    {
      "cell_type": "code",
      "execution_count": 23,
      "metadata": {
        "id": "sxVbkKXhVs32"
      },
      "outputs": [],
      "source": [
        "daily_agg = bookings_perdate.groupby(pd.Grouper(key='booking_date', freq='D'))['booking_count'].mean().reset_index()\n",
        "daily_agg['28D_MA'] = daily_agg['booking_count'].rolling(window=28).mean()\n",
        "daily_agg['28D_STD'] = daily_agg['booking_count'].rolling(window=28).std()"
      ]
    },
    {
      "cell_type": "code",
      "execution_count": 24,
      "metadata": {
        "colab": {
          "base_uri": "https://localhost:8080/",
          "height": 419
        },
        "id": "2X4uNAZNd4N2",
        "outputId": "c38108bb-a2a1-45a6-a06e-dbedbe9f6127"
      },
      "outputs": [
        {
          "data": {
            "text/html": [
              "\n",
              "  <div id=\"df-1a060c1f-ee7a-47f8-89e3-6f4931dc9168\">\n",
              "    <div class=\"colab-df-container\">\n",
              "      <div>\n",
              "<style scoped>\n",
              "    .dataframe tbody tr th:only-of-type {\n",
              "        vertical-align: middle;\n",
              "    }\n",
              "\n",
              "    .dataframe tbody tr th {\n",
              "        vertical-align: top;\n",
              "    }\n",
              "\n",
              "    .dataframe thead th {\n",
              "        text-align: right;\n",
              "    }\n",
              "</style>\n",
              "<table border=\"1\" class=\"dataframe\">\n",
              "  <thead>\n",
              "    <tr style=\"text-align: right;\">\n",
              "      <th></th>\n",
              "      <th>booking_date</th>\n",
              "      <th>booking_count</th>\n",
              "      <th>28D_MA</th>\n",
              "      <th>28D_STD</th>\n",
              "    </tr>\n",
              "  </thead>\n",
              "  <tbody>\n",
              "    <tr>\n",
              "      <th>0</th>\n",
              "      <td>2013-06-24</td>\n",
              "      <td>1.0</td>\n",
              "      <td>NaN</td>\n",
              "      <td>NaN</td>\n",
              "    </tr>\n",
              "    <tr>\n",
              "      <th>1</th>\n",
              "      <td>2013-06-25</td>\n",
              "      <td>NaN</td>\n",
              "      <td>NaN</td>\n",
              "      <td>NaN</td>\n",
              "    </tr>\n",
              "    <tr>\n",
              "      <th>2</th>\n",
              "      <td>2013-06-26</td>\n",
              "      <td>NaN</td>\n",
              "      <td>NaN</td>\n",
              "      <td>NaN</td>\n",
              "    </tr>\n",
              "    <tr>\n",
              "      <th>3</th>\n",
              "      <td>2013-06-27</td>\n",
              "      <td>NaN</td>\n",
              "      <td>NaN</td>\n",
              "      <td>NaN</td>\n",
              "    </tr>\n",
              "    <tr>\n",
              "      <th>4</th>\n",
              "      <td>2013-06-28</td>\n",
              "      <td>NaN</td>\n",
              "      <td>NaN</td>\n",
              "      <td>NaN</td>\n",
              "    </tr>\n",
              "    <tr>\n",
              "      <th>...</th>\n",
              "      <td>...</td>\n",
              "      <td>...</td>\n",
              "      <td>...</td>\n",
              "      <td>...</td>\n",
              "    </tr>\n",
              "    <tr>\n",
              "      <th>1525</th>\n",
              "      <td>2017-08-27</td>\n",
              "      <td>15.0</td>\n",
              "      <td>20.714286</td>\n",
              "      <td>7.792956</td>\n",
              "    </tr>\n",
              "    <tr>\n",
              "      <th>1526</th>\n",
              "      <td>2017-08-28</td>\n",
              "      <td>12.0</td>\n",
              "      <td>20.321429</td>\n",
              "      <td>7.949161</td>\n",
              "    </tr>\n",
              "    <tr>\n",
              "      <th>1527</th>\n",
              "      <td>2017-08-29</td>\n",
              "      <td>12.0</td>\n",
              "      <td>19.178571</td>\n",
              "      <td>6.605573</td>\n",
              "    </tr>\n",
              "    <tr>\n",
              "      <th>1528</th>\n",
              "      <td>2017-08-30</td>\n",
              "      <td>8.0</td>\n",
              "      <td>18.571429</td>\n",
              "      <td>6.828202</td>\n",
              "    </tr>\n",
              "    <tr>\n",
              "      <th>1529</th>\n",
              "      <td>2017-08-31</td>\n",
              "      <td>1.0</td>\n",
              "      <td>17.357143</td>\n",
              "      <td>6.821612</td>\n",
              "    </tr>\n",
              "  </tbody>\n",
              "</table>\n",
              "<p>1530 rows × 4 columns</p>\n",
              "</div>\n",
              "      <button class=\"colab-df-convert\" onclick=\"convertToInteractive('df-1a060c1f-ee7a-47f8-89e3-6f4931dc9168')\"\n",
              "              title=\"Convert this dataframe to an interactive table.\"\n",
              "              style=\"display:none;\">\n",
              "        \n",
              "  <svg xmlns=\"http://www.w3.org/2000/svg\" height=\"24px\"viewBox=\"0 0 24 24\"\n",
              "       width=\"24px\">\n",
              "    <path d=\"M0 0h24v24H0V0z\" fill=\"none\"/>\n",
              "    <path d=\"M18.56 5.44l.94 2.06.94-2.06 2.06-.94-2.06-.94-.94-2.06-.94 2.06-2.06.94zm-11 1L8.5 8.5l.94-2.06 2.06-.94-2.06-.94L8.5 2.5l-.94 2.06-2.06.94zm10 10l.94 2.06.94-2.06 2.06-.94-2.06-.94-.94-2.06-.94 2.06-2.06.94z\"/><path d=\"M17.41 7.96l-1.37-1.37c-.4-.4-.92-.59-1.43-.59-.52 0-1.04.2-1.43.59L10.3 9.45l-7.72 7.72c-.78.78-.78 2.05 0 2.83L4 21.41c.39.39.9.59 1.41.59.51 0 1.02-.2 1.41-.59l7.78-7.78 2.81-2.81c.8-.78.8-2.07 0-2.86zM5.41 20L4 18.59l7.72-7.72 1.47 1.35L5.41 20z\"/>\n",
              "  </svg>\n",
              "      </button>\n",
              "      \n",
              "  <style>\n",
              "    .colab-df-container {\n",
              "      display:flex;\n",
              "      flex-wrap:wrap;\n",
              "      gap: 12px;\n",
              "    }\n",
              "\n",
              "    .colab-df-convert {\n",
              "      background-color: #E8F0FE;\n",
              "      border: none;\n",
              "      border-radius: 50%;\n",
              "      cursor: pointer;\n",
              "      display: none;\n",
              "      fill: #1967D2;\n",
              "      height: 32px;\n",
              "      padding: 0 0 0 0;\n",
              "      width: 32px;\n",
              "    }\n",
              "\n",
              "    .colab-df-convert:hover {\n",
              "      background-color: #E2EBFA;\n",
              "      box-shadow: 0px 1px 2px rgba(60, 64, 67, 0.3), 0px 1px 3px 1px rgba(60, 64, 67, 0.15);\n",
              "      fill: #174EA6;\n",
              "    }\n",
              "\n",
              "    [theme=dark] .colab-df-convert {\n",
              "      background-color: #3B4455;\n",
              "      fill: #D2E3FC;\n",
              "    }\n",
              "\n",
              "    [theme=dark] .colab-df-convert:hover {\n",
              "      background-color: #434B5C;\n",
              "      box-shadow: 0px 1px 3px 1px rgba(0, 0, 0, 0.15);\n",
              "      filter: drop-shadow(0px 1px 2px rgba(0, 0, 0, 0.3));\n",
              "      fill: #FFFFFF;\n",
              "    }\n",
              "  </style>\n",
              "\n",
              "      <script>\n",
              "        const buttonEl =\n",
              "          document.querySelector('#df-1a060c1f-ee7a-47f8-89e3-6f4931dc9168 button.colab-df-convert');\n",
              "        buttonEl.style.display =\n",
              "          google.colab.kernel.accessAllowed ? 'block' : 'none';\n",
              "\n",
              "        async function convertToInteractive(key) {\n",
              "          const element = document.querySelector('#df-1a060c1f-ee7a-47f8-89e3-6f4931dc9168');\n",
              "          const dataTable =\n",
              "            await google.colab.kernel.invokeFunction('convertToInteractive',\n",
              "                                                     [key], {});\n",
              "          if (!dataTable) return;\n",
              "\n",
              "          const docLinkHtml = 'Like what you see? Visit the ' +\n",
              "            '<a target=\"_blank\" href=https://colab.research.google.com/notebooks/data_table.ipynb>data table notebook</a>'\n",
              "            + ' to learn more about interactive tables.';\n",
              "          element.innerHTML = '';\n",
              "          dataTable['output_type'] = 'display_data';\n",
              "          await google.colab.output.renderOutput(dataTable, element);\n",
              "          const docLink = document.createElement('div');\n",
              "          docLink.innerHTML = docLinkHtml;\n",
              "          element.appendChild(docLink);\n",
              "        }\n",
              "      </script>\n",
              "    </div>\n",
              "  </div>\n",
              "  "
            ],
            "text/plain": [
              "     booking_date  booking_count     28D_MA   28D_STD\n",
              "0      2013-06-24            1.0        NaN       NaN\n",
              "1      2013-06-25            NaN        NaN       NaN\n",
              "2      2013-06-26            NaN        NaN       NaN\n",
              "3      2013-06-27            NaN        NaN       NaN\n",
              "4      2013-06-28            NaN        NaN       NaN\n",
              "...           ...            ...        ...       ...\n",
              "1525   2017-08-27           15.0  20.714286  7.792956\n",
              "1526   2017-08-28           12.0  20.321429  7.949161\n",
              "1527   2017-08-29           12.0  19.178571  6.605573\n",
              "1528   2017-08-30            8.0  18.571429  6.828202\n",
              "1529   2017-08-31            1.0  17.357143  6.821612\n",
              "\n",
              "[1530 rows x 4 columns]"
            ]
          },
          "execution_count": 24,
          "metadata": {},
          "output_type": "execute_result"
        }
      ],
      "source": [
        "daily_agg"
      ]
    },
    {
      "cell_type": "code",
      "execution_count": 27,
      "metadata": {
        "colab": {
          "base_uri": "https://localhost:8080/",
          "height": 500
        },
        "id": "ogLkm_JnWBbm",
        "outputId": "9db0c4e5-9a18-4a60-a4ef-c609f6d728ec"
      },
      "outputs": [
        {
          "data": {
            "image/png": "[encoded data removed]",
            "text/plain": [
              "<Figure size 1440x576 with 1 Axes>"
            ]
          },
          "metadata": {
            "needs_background": "light"
          },
          "output_type": "display_data"
        }
      ],
      "source": [
        "# Smoothness\n",
        "plt.figure(figsize=(20,8))\n",
        "\n",
        "#Plotting the 28 Day MA\n",
        "plt.plot(daily_agg['booking_date'], daily_agg['28D_MA'], label='28Day MA', alpha=0.6, lw=3)\n",
        "\n",
        "plt.legend(fontsize=25)\n",
        "plt.xticks(fontsize=15)\n",
        "plt.yticks(fontsize=15)\n",
        "plt.xlim([pd.to_datetime('2013-06-24'), pd.to_datetime('2017-08-31')])\n",
        "plt.xlabel('Date')\n",
        "plt.ylabel('Booking Count');"
      ]
    },
    {
      "cell_type": "markdown",
      "metadata": {
        "id": "5ONppU8hTn3Y"
      },
      "source": [
        "Based on the graph, we see that there's a gap between 2013 and about mid-year of 2015. This can mean that no significant data that presents as a trend in that time frame. From past July 2015 to July 2017, we see that a trend is present.\n",
        "\n",
        "\n",
        "We notice that as the date approaches the start of a new year, the booking count slowly increases as well. The number of bookings tend to spike up at the start of a year but quickly decreases afterwards when approaching the months of spring (March, April, May) and summmer (June, July, August). \n",
        "\n",
        "This can mean that many people book during the earlier months of the year to prepare for vacation in the spring or summer. This inference is based on the information gathered from Phase 1 where we discovered that the most frequent months for arrival are August and July. "
      ]
    },
    {
      "cell_type": "markdown",
      "metadata": {
        "id": "kTRuBfx1o6e1"
      },
      "source": [
        "## Major Components of Observed Time Series"
      ]
    },
    {
      "cell_type": "code",
      "execution_count": null,
      "metadata": {
        "colab": {
          "base_uri": "https://localhost:8080/",
          "height": 419
        },
        "id": "4JQMgdaQ2YyM",
        "outputId": "296fdb05-8453-4f98-d26a-273b77653763"
      },
      "outputs": [
        {
          "data": {
            "text/html": [
              "\n",
              "  <div id=\"df-b045cb7d-53c1-4297-bd94-90054da827de\">\n",
              "    <div class=\"colab-df-container\">\n",
              "      <div>\n",
              "<style scoped>\n",
              "    .dataframe tbody tr th:only-of-type {\n",
              "        vertical-align: middle;\n",
              "    }\n",
              "\n",
              "    .dataframe tbody tr th {\n",
              "        vertical-align: top;\n",
              "    }\n",
              "\n",
              "    .dataframe thead th {\n",
              "        text-align: right;\n",
              "    }\n",
              "</style>\n",
              "<table border=\"1\" class=\"dataframe\">\n",
              "  <thead>\n",
              "    <tr style=\"text-align: right;\">\n",
              "      <th></th>\n",
              "      <th>booking_date</th>\n",
              "      <th>booking_count</th>\n",
              "    </tr>\n",
              "  </thead>\n",
              "  <tbody>\n",
              "    <tr>\n",
              "      <th>0</th>\n",
              "      <td>2015-10-14</td>\n",
              "      <td>281</td>\n",
              "    </tr>\n",
              "    <tr>\n",
              "      <th>1</th>\n",
              "      <td>2016-02-03</td>\n",
              "      <td>252</td>\n",
              "    </tr>\n",
              "    <tr>\n",
              "      <th>2</th>\n",
              "      <td>2016-01-18</td>\n",
              "      <td>246</td>\n",
              "    </tr>\n",
              "    <tr>\n",
              "      <th>3</th>\n",
              "      <td>2016-01-14</td>\n",
              "      <td>229</td>\n",
              "    </tr>\n",
              "    <tr>\n",
              "      <th>4</th>\n",
              "      <td>2016-01-06</td>\n",
              "      <td>224</td>\n",
              "    </tr>\n",
              "    <tr>\n",
              "      <th>...</th>\n",
              "      <td>...</td>\n",
              "      <td>...</td>\n",
              "    </tr>\n",
              "    <tr>\n",
              "      <th>965</th>\n",
              "      <td>2014-10-13</td>\n",
              "      <td>1</td>\n",
              "    </tr>\n",
              "    <tr>\n",
              "      <th>966</th>\n",
              "      <td>2014-09-14</td>\n",
              "      <td>1</td>\n",
              "    </tr>\n",
              "    <tr>\n",
              "      <th>967</th>\n",
              "      <td>2014-04-18</td>\n",
              "      <td>1</td>\n",
              "    </tr>\n",
              "    <tr>\n",
              "      <th>968</th>\n",
              "      <td>2014-10-11</td>\n",
              "      <td>1</td>\n",
              "    </tr>\n",
              "    <tr>\n",
              "      <th>969</th>\n",
              "      <td>2014-07-24</td>\n",
              "      <td>1</td>\n",
              "    </tr>\n",
              "  </tbody>\n",
              "</table>\n",
              "<p>970 rows × 2 columns</p>\n",
              "</div>\n",
              "      <button class=\"colab-df-convert\" onclick=\"convertToInteractive('df-b045cb7d-53c1-4297-bd94-90054da827de')\"\n",
              "              title=\"Convert this dataframe to an interactive table.\"\n",
              "              style=\"display:none;\">\n",
              "        \n",
              "  <svg xmlns=\"http://www.w3.org/2000/svg\" height=\"24px\"viewBox=\"0 0 24 24\"\n",
              "       width=\"24px\">\n",
              "    <path d=\"M0 0h24v24H0V0z\" fill=\"none\"/>\n",
              "    <path d=\"M18.56 5.44l.94 2.06.94-2.06 2.06-.94-2.06-.94-.94-2.06-.94 2.06-2.06.94zm-11 1L8.5 8.5l.94-2.06 2.06-.94-2.06-.94L8.5 2.5l-.94 2.06-2.06.94zm10 10l.94 2.06.94-2.06 2.06-.94-2.06-.94-.94-2.06-.94 2.06-2.06.94z\"/><path d=\"M17.41 7.96l-1.37-1.37c-.4-.4-.92-.59-1.43-.59-.52 0-1.04.2-1.43.59L10.3 9.45l-7.72 7.72c-.78.78-.78 2.05 0 2.83L4 21.41c.39.39.9.59 1.41.59.51 0 1.02-.2 1.41-.59l7.78-7.78 2.81-2.81c.8-.78.8-2.07 0-2.86zM5.41 20L4 18.59l7.72-7.72 1.47 1.35L5.41 20z\"/>\n",
              "  </svg>\n",
              "      </button>\n",
              "      \n",
              "  <style>\n",
              "    .colab-df-container {\n",
              "      display:flex;\n",
              "      flex-wrap:wrap;\n",
              "      gap: 12px;\n",
              "    }\n",
              "\n",
              "    .colab-df-convert {\n",
              "      background-color: #E8F0FE;\n",
              "      border: none;\n",
              "      border-radius: 50%;\n",
              "      cursor: pointer;\n",
              "      display: none;\n",
              "      fill: #1967D2;\n",
              "      height: 32px;\n",
              "      padding: 0 0 0 0;\n",
              "      width: 32px;\n",
              "    }\n",
              "\n",
              "    .colab-df-convert:hover {\n",
              "      background-color: #E2EBFA;\n",
              "      box-shadow: 0px 1px 2px rgba(60, 64, 67, 0.3), 0px 1px 3px 1px rgba(60, 64, 67, 0.15);\n",
              "      fill: #174EA6;\n",
              "    }\n",
              "\n",
              "    [theme=dark] .colab-df-convert {\n",
              "      background-color: #3B4455;\n",
              "      fill: #D2E3FC;\n",
              "    }\n",
              "\n",
              "    [theme=dark] .colab-df-convert:hover {\n",
              "      background-color: #434B5C;\n",
              "      box-shadow: 0px 1px 3px 1px rgba(0, 0, 0, 0.15);\n",
              "      filter: drop-shadow(0px 1px 2px rgba(0, 0, 0, 0.3));\n",
              "      fill: #FFFFFF;\n",
              "    }\n",
              "  </style>\n",
              "\n",
              "      <script>\n",
              "        const buttonEl =\n",
              "          document.querySelector('#df-b045cb7d-53c1-4297-bd94-90054da827de button.colab-df-convert');\n",
              "        buttonEl.style.display =\n",
              "          google.colab.kernel.accessAllowed ? 'block' : 'none';\n",
              "\n",
              "        async function convertToInteractive(key) {\n",
              "          const element = document.querySelector('#df-b045cb7d-53c1-4297-bd94-90054da827de');\n",
              "          const dataTable =\n",
              "            await google.colab.kernel.invokeFunction('convertToInteractive',\n",
              "                                                     [key], {});\n",
              "          if (!dataTable) return;\n",
              "\n",
              "          const docLinkHtml = 'Like what you see? Visit the ' +\n",
              "            '<a target=\"_blank\" href=https://colab.research.google.com/notebooks/data_table.ipynb>data table notebook</a>'\n",
              "            + ' to learn more about interactive tables.';\n",
              "          element.innerHTML = '';\n",
              "          dataTable['output_type'] = 'display_data';\n",
              "          await google.colab.output.renderOutput(dataTable, element);\n",
              "          const docLink = document.createElement('div');\n",
              "          docLink.innerHTML = docLinkHtml;\n",
              "          element.appendChild(docLink);\n",
              "        }\n",
              "      </script>\n",
              "    </div>\n",
              "  </div>\n",
              "  "
            ],
            "text/plain": [
              "    booking_date  booking_count\n",
              "0     2015-10-14            281\n",
              "1     2016-02-03            252\n",
              "2     2016-01-18            246\n",
              "3     2016-01-14            229\n",
              "4     2016-01-06            224\n",
              "..           ...            ...\n",
              "965   2014-10-13              1\n",
              "966   2014-09-14              1\n",
              "967   2014-04-18              1\n",
              "968   2014-10-11              1\n",
              "969   2014-07-24              1\n",
              "\n",
              "[970 rows x 2 columns]"
            ]
          },
          "execution_count": 18,
          "metadata": {},
          "output_type": "execute_result"
        }
      ],
      "source": [
        "bookings_perdate"
      ]
    },
    {
      "cell_type": "code",
      "execution_count": null,
      "metadata": {
        "colab": {
          "base_uri": "https://localhost:8080/"
        },
        "id": "Cg7omr9o3nt5",
        "outputId": "ba41af16-d2a9-4d49-f06c-5a1d642ec761"
      },
      "outputs": [
        {
          "name": "stdout",
          "output_type": "stream",
          "text": [
            "  booking_date  booking_count\n",
            "0   2015-10-14            281\n"
          ]
        }
      ],
      "source": [
        "print(bookings_perdate[bookings_perdate.booking_count == bookings_perdate.booking_count.max()])"
      ]
    },
    {
      "cell_type": "code",
      "execution_count": null,
      "metadata": {
        "colab": {
          "base_uri": "https://localhost:8080/",
          "height": 419
        },
        "id": "PII03FsPqXZZ",
        "outputId": "040ab6a8-42b2-4a1f-9356-a9c33e40e7eb"
      },
      "outputs": [
        {
          "data": {
            "text/html": [
              "\n",
              "  <div id=\"df-ef3ec32f-2d34-4d1e-a173-41d79a6fb96c\">\n",
              "    <div class=\"colab-df-container\">\n",
              "      <div>\n",
              "<style scoped>\n",
              "    .dataframe tbody tr th:only-of-type {\n",
              "        vertical-align: middle;\n",
              "    }\n",
              "\n",
              "    .dataframe tbody tr th {\n",
              "        vertical-align: top;\n",
              "    }\n",
              "\n",
              "    .dataframe thead th {\n",
              "        text-align: right;\n",
              "    }\n",
              "</style>\n",
              "<table border=\"1\" class=\"dataframe\">\n",
              "  <thead>\n",
              "    <tr style=\"text-align: right;\">\n",
              "      <th></th>\n",
              "      <th>booking_date</th>\n",
              "      <th>booking_count</th>\n",
              "    </tr>\n",
              "  </thead>\n",
              "  <tbody>\n",
              "    <tr>\n",
              "      <th>0</th>\n",
              "      <td>2015-10-14</td>\n",
              "      <td>281</td>\n",
              "    </tr>\n",
              "    <tr>\n",
              "      <th>1</th>\n",
              "      <td>2016-02-03</td>\n",
              "      <td>252</td>\n",
              "    </tr>\n",
              "    <tr>\n",
              "      <th>2</th>\n",
              "      <td>2016-01-18</td>\n",
              "      <td>246</td>\n",
              "    </tr>\n",
              "    <tr>\n",
              "      <th>3</th>\n",
              "      <td>2016-01-14</td>\n",
              "      <td>229</td>\n",
              "    </tr>\n",
              "    <tr>\n",
              "      <th>4</th>\n",
              "      <td>2016-01-06</td>\n",
              "      <td>224</td>\n",
              "    </tr>\n",
              "    <tr>\n",
              "      <th>...</th>\n",
              "      <td>...</td>\n",
              "      <td>...</td>\n",
              "    </tr>\n",
              "    <tr>\n",
              "      <th>965</th>\n",
              "      <td>2014-10-13</td>\n",
              "      <td>1</td>\n",
              "    </tr>\n",
              "    <tr>\n",
              "      <th>966</th>\n",
              "      <td>2014-09-14</td>\n",
              "      <td>1</td>\n",
              "    </tr>\n",
              "    <tr>\n",
              "      <th>967</th>\n",
              "      <td>2014-04-18</td>\n",
              "      <td>1</td>\n",
              "    </tr>\n",
              "    <tr>\n",
              "      <th>968</th>\n",
              "      <td>2014-10-11</td>\n",
              "      <td>1</td>\n",
              "    </tr>\n",
              "    <tr>\n",
              "      <th>969</th>\n",
              "      <td>2014-07-24</td>\n",
              "      <td>1</td>\n",
              "    </tr>\n",
              "  </tbody>\n",
              "</table>\n",
              "<p>970 rows × 2 columns</p>\n",
              "</div>\n",
              "      <button class=\"colab-df-convert\" onclick=\"convertToInteractive('df-ef3ec32f-2d34-4d1e-a173-41d79a6fb96c')\"\n",
              "              title=\"Convert this dataframe to an interactive table.\"\n",
              "              style=\"display:none;\">\n",
              "        \n",
              "  <svg xmlns=\"http://www.w3.org/2000/svg\" height=\"24px\"viewBox=\"0 0 24 24\"\n",
              "       width=\"24px\">\n",
              "    <path d=\"M0 0h24v24H0V0z\" fill=\"none\"/>\n",
              "    <path d=\"M18.56 5.44l.94 2.06.94-2.06 2.06-.94-2.06-.94-.94-2.06-.94 2.06-2.06.94zm-11 1L8.5 8.5l.94-2.06 2.06-.94-2.06-.94L8.5 2.5l-.94 2.06-2.06.94zm10 10l.94 2.06.94-2.06 2.06-.94-2.06-.94-.94-2.06-.94 2.06-2.06.94z\"/><path d=\"M17.41 7.96l-1.37-1.37c-.4-.4-.92-.59-1.43-.59-.52 0-1.04.2-1.43.59L10.3 9.45l-7.72 7.72c-.78.78-.78 2.05 0 2.83L4 21.41c.39.39.9.59 1.41.59.51 0 1.02-.2 1.41-.59l7.78-7.78 2.81-2.81c.8-.78.8-2.07 0-2.86zM5.41 20L4 18.59l7.72-7.72 1.47 1.35L5.41 20z\"/>\n",
              "  </svg>\n",
              "      </button>\n",
              "      \n",
              "  <style>\n",
              "    .colab-df-container {\n",
              "      display:flex;\n",
              "      flex-wrap:wrap;\n",
              "      gap: 12px;\n",
              "    }\n",
              "\n",
              "    .colab-df-convert {\n",
              "      background-color: #E8F0FE;\n",
              "      border: none;\n",
              "      border-radius: 50%;\n",
              "      cursor: pointer;\n",
              "      display: none;\n",
              "      fill: #1967D2;\n",
              "      height: 32px;\n",
              "      padding: 0 0 0 0;\n",
              "      width: 32px;\n",
              "    }\n",
              "\n",
              "    .colab-df-convert:hover {\n",
              "      background-color: #E2EBFA;\n",
              "      box-shadow: 0px 1px 2px rgba(60, 64, 67, 0.3), 0px 1px 3px 1px rgba(60, 64, 67, 0.15);\n",
              "      fill: #174EA6;\n",
              "    }\n",
              "\n",
              "    [theme=dark] .colab-df-convert {\n",
              "      background-color: #3B4455;\n",
              "      fill: #D2E3FC;\n",
              "    }\n",
              "\n",
              "    [theme=dark] .colab-df-convert:hover {\n",
              "      background-color: #434B5C;\n",
              "      box-shadow: 0px 1px 3px 1px rgba(0, 0, 0, 0.15);\n",
              "      filter: drop-shadow(0px 1px 2px rgba(0, 0, 0, 0.3));\n",
              "      fill: #FFFFFF;\n",
              "    }\n",
              "  </style>\n",
              "\n",
              "      <script>\n",
              "        const buttonEl =\n",
              "          document.querySelector('#df-ef3ec32f-2d34-4d1e-a173-41d79a6fb96c button.colab-df-convert');\n",
              "        buttonEl.style.display =\n",
              "          google.colab.kernel.accessAllowed ? 'block' : 'none';\n",
              "\n",
              "        async function convertToInteractive(key) {\n",
              "          const element = document.querySelector('#df-ef3ec32f-2d34-4d1e-a173-41d79a6fb96c');\n",
              "          const dataTable =\n",
              "            await google.colab.kernel.invokeFunction('convertToInteractive',\n",
              "                                                     [key], {});\n",
              "          if (!dataTable) return;\n",
              "\n",
              "          const docLinkHtml = 'Like what you see? Visit the ' +\n",
              "            '<a target=\"_blank\" href=https://colab.research.google.com/notebooks/data_table.ipynb>data table notebook</a>'\n",
              "            + ' to learn more about interactive tables.';\n",
              "          element.innerHTML = '';\n",
              "          dataTable['output_type'] = 'display_data';\n",
              "          await google.colab.output.renderOutput(dataTable, element);\n",
              "          const docLink = document.createElement('div');\n",
              "          docLink.innerHTML = docLinkHtml;\n",
              "          element.appendChild(docLink);\n",
              "        }\n",
              "      </script>\n",
              "    </div>\n",
              "  </div>\n",
              "  "
            ],
            "text/plain": [
              "    booking_date  booking_count\n",
              "0     2015-10-14            281\n",
              "1     2016-02-03            252\n",
              "2     2016-01-18            246\n",
              "3     2016-01-14            229\n",
              "4     2016-01-06            224\n",
              "..           ...            ...\n",
              "965   2014-10-13              1\n",
              "966   2014-09-14              1\n",
              "967   2014-04-18              1\n",
              "968   2014-10-11              1\n",
              "969   2014-07-24              1\n",
              "\n",
              "[970 rows x 2 columns]"
            ]
          },
          "execution_count": 20,
          "metadata": {},
          "output_type": "execute_result"
        }
      ],
      "source": [
        "bookings_perdate"
      ]
    },
    {
      "cell_type": "code",
      "execution_count": null,
      "metadata": {
        "colab": {
          "base_uri": "https://localhost:8080/",
          "height": 450
        },
        "id": "4EXV9ww8b6_N",
        "outputId": "e6b72caa-df70-47eb-939c-6b0c57a7848a"
      },
      "outputs": [
        {
          "data": {
            "text/html": [
              "\n",
              "  <div id=\"df-baa45138-83fe-49d9-9da2-242ffc824d38\">\n",
              "    <div class=\"colab-df-container\">\n",
              "      <div>\n",
              "<style scoped>\n",
              "    .dataframe tbody tr th:only-of-type {\n",
              "        vertical-align: middle;\n",
              "    }\n",
              "\n",
              "    .dataframe tbody tr th {\n",
              "        vertical-align: top;\n",
              "    }\n",
              "\n",
              "    .dataframe thead th {\n",
              "        text-align: right;\n",
              "    }\n",
              "</style>\n",
              "<table border=\"1\" class=\"dataframe\">\n",
              "  <thead>\n",
              "    <tr style=\"text-align: right;\">\n",
              "      <th></th>\n",
              "      <th>28D_MA</th>\n",
              "    </tr>\n",
              "    <tr>\n",
              "      <th>booking_date</th>\n",
              "      <th></th>\n",
              "    </tr>\n",
              "  </thead>\n",
              "  <tbody>\n",
              "    <tr>\n",
              "      <th>2015-08-09</th>\n",
              "      <td>41.928571</td>\n",
              "    </tr>\n",
              "    <tr>\n",
              "      <th>2015-08-10</th>\n",
              "      <td>44.678571</td>\n",
              "    </tr>\n",
              "    <tr>\n",
              "      <th>2015-08-11</th>\n",
              "      <td>47.000000</td>\n",
              "    </tr>\n",
              "    <tr>\n",
              "      <th>2015-08-12</th>\n",
              "      <td>47.464286</td>\n",
              "    </tr>\n",
              "    <tr>\n",
              "      <th>2015-08-13</th>\n",
              "      <td>49.964286</td>\n",
              "    </tr>\n",
              "    <tr>\n",
              "      <th>...</th>\n",
              "      <td>...</td>\n",
              "    </tr>\n",
              "    <tr>\n",
              "      <th>2017-08-27</th>\n",
              "      <td>20.714286</td>\n",
              "    </tr>\n",
              "    <tr>\n",
              "      <th>2017-08-28</th>\n",
              "      <td>20.321429</td>\n",
              "    </tr>\n",
              "    <tr>\n",
              "      <th>2017-08-29</th>\n",
              "      <td>19.178571</td>\n",
              "    </tr>\n",
              "    <tr>\n",
              "      <th>2017-08-30</th>\n",
              "      <td>18.571429</td>\n",
              "    </tr>\n",
              "    <tr>\n",
              "      <th>2017-08-31</th>\n",
              "      <td>17.357143</td>\n",
              "    </tr>\n",
              "  </tbody>\n",
              "</table>\n",
              "<p>754 rows × 1 columns</p>\n",
              "</div>\n",
              "      <button class=\"colab-df-convert\" onclick=\"convertToInteractive('df-baa45138-83fe-49d9-9da2-242ffc824d38')\"\n",
              "              title=\"Convert this dataframe to an interactive table.\"\n",
              "              style=\"display:none;\">\n",
              "        \n",
              "  <svg xmlns=\"http://www.w3.org/2000/svg\" height=\"24px\"viewBox=\"0 0 24 24\"\n",
              "       width=\"24px\">\n",
              "    <path d=\"M0 0h24v24H0V0z\" fill=\"none\"/>\n",
              "    <path d=\"M18.56 5.44l.94 2.06.94-2.06 2.06-.94-2.06-.94-.94-2.06-.94 2.06-2.06.94zm-11 1L8.5 8.5l.94-2.06 2.06-.94-2.06-.94L8.5 2.5l-.94 2.06-2.06.94zm10 10l.94 2.06.94-2.06 2.06-.94-2.06-.94-.94-2.06-.94 2.06-2.06.94z\"/><path d=\"M17.41 7.96l-1.37-1.37c-.4-.4-.92-.59-1.43-.59-.52 0-1.04.2-1.43.59L10.3 9.45l-7.72 7.72c-.78.78-.78 2.05 0 2.83L4 21.41c.39.39.9.59 1.41.59.51 0 1.02-.2 1.41-.59l7.78-7.78 2.81-2.81c.8-.78.8-2.07 0-2.86zM5.41 20L4 18.59l7.72-7.72 1.47 1.35L5.41 20z\"/>\n",
              "  </svg>\n",
              "      </button>\n",
              "      \n",
              "  <style>\n",
              "    .colab-df-container {\n",
              "      display:flex;\n",
              "      flex-wrap:wrap;\n",
              "      gap: 12px;\n",
              "    }\n",
              "\n",
              "    .colab-df-convert {\n",
              "      background-color: #E8F0FE;\n",
              "      border: none;\n",
              "      border-radius: 50%;\n",
              "      cursor: pointer;\n",
              "      display: none;\n",
              "      fill: #1967D2;\n",
              "      height: 32px;\n",
              "      padding: 0 0 0 0;\n",
              "      width: 32px;\n",
              "    }\n",
              "\n",
              "    .colab-df-convert:hover {\n",
              "      background-color: #E2EBFA;\n",
              "      box-shadow: 0px 1px 2px rgba(60, 64, 67, 0.3), 0px 1px 3px 1px rgba(60, 64, 67, 0.15);\n",
              "      fill: #174EA6;\n",
              "    }\n",
              "\n",
              "    [theme=dark] .colab-df-convert {\n",
              "      background-color: #3B4455;\n",
              "      fill: #D2E3FC;\n",
              "    }\n",
              "\n",
              "    [theme=dark] .colab-df-convert:hover {\n",
              "      background-color: #434B5C;\n",
              "      box-shadow: 0px 1px 3px 1px rgba(0, 0, 0, 0.15);\n",
              "      filter: drop-shadow(0px 1px 2px rgba(0, 0, 0, 0.3));\n",
              "      fill: #FFFFFF;\n",
              "    }\n",
              "  </style>\n",
              "\n",
              "      <script>\n",
              "        const buttonEl =\n",
              "          document.querySelector('#df-baa45138-83fe-49d9-9da2-242ffc824d38 button.colab-df-convert');\n",
              "        buttonEl.style.display =\n",
              "          google.colab.kernel.accessAllowed ? 'block' : 'none';\n",
              "\n",
              "        async function convertToInteractive(key) {\n",
              "          const element = document.querySelector('#df-baa45138-83fe-49d9-9da2-242ffc824d38');\n",
              "          const dataTable =\n",
              "            await google.colab.kernel.invokeFunction('convertToInteractive',\n",
              "                                                     [key], {});\n",
              "          if (!dataTable) return;\n",
              "\n",
              "          const docLinkHtml = 'Like what you see? Visit the ' +\n",
              "            '<a target=\"_blank\" href=https://colab.research.google.com/notebooks/data_table.ipynb>data table notebook</a>'\n",
              "            + ' to learn more about interactive tables.';\n",
              "          element.innerHTML = '';\n",
              "          dataTable['output_type'] = 'display_data';\n",
              "          await google.colab.output.renderOutput(dataTable, element);\n",
              "          const docLink = document.createElement('div');\n",
              "          docLink.innerHTML = docLinkHtml;\n",
              "          element.appendChild(docLink);\n",
              "        }\n",
              "      </script>\n",
              "    </div>\n",
              "  </div>\n",
              "  "
            ],
            "text/plain": [
              "                 28D_MA\n",
              "booking_date           \n",
              "2015-08-09    41.928571\n",
              "2015-08-10    44.678571\n",
              "2015-08-11    47.000000\n",
              "2015-08-12    47.464286\n",
              "2015-08-13    49.964286\n",
              "...                 ...\n",
              "2017-08-27    20.714286\n",
              "2017-08-28    20.321429\n",
              "2017-08-29    19.178571\n",
              "2017-08-30    18.571429\n",
              "2017-08-31    17.357143\n",
              "\n",
              "[754 rows x 1 columns]"
            ]
          },
          "execution_count": 21,
          "metadata": {},
          "output_type": "execute_result"
        }
      ],
      "source": [
        "decompose_sample = daily_agg.copy()\n",
        "\n",
        "decompose_sample = decompose_sample['28D_MA'].reset_index()\n",
        "\n",
        "decompose_sample\n",
        " \n",
        "decompose_sample = decompose_sample.set_index(pd.to_datetime(daily_agg['booking_date'])).dropna()\n",
        "\n",
        "decompose_sample.sort_index(inplace=True)\n",
        "\n",
        "decompose_sample.drop('index', axis = 1)\n",
        "\n"
      ]
    },
    {
      "cell_type": "code",
      "execution_count": null,
      "metadata": {
        "id": "d2jWMlSJzQAw"
      },
      "outputs": [],
      "source": [
        "#Get important components of time series\n",
        "decompose_sample = bookings_perdate.copy()\n",
        "\n",
        "decompose_sample = decompose_sample.groupby(pd.Grouper(key='booking_date', freq='MS'))['booking_count'].sum().reset_index()\n",
        "\n",
        "decompose_sample = decompose_sample.set_index(pd.to_datetime(decompose_sample['booking_date'])).dropna()\n",
        "\n",
        "decompose_sample.sort_index(inplace=True)"
      ]
    },
    {
      "cell_type": "code",
      "execution_count": null,
      "metadata": {
        "colab": {
          "base_uri": "https://localhost:8080/",
          "height": 390
        },
        "id": "bwNjiGnmphmy",
        "outputId": "a4a8244b-0d35-4eda-a568-08cb7b8bf1a3"
      },
      "outputs": [
        {
          "data": {
            "text/html": [
              "\n",
              "  <div id=\"df-e3786908-ad64-43c2-8bb2-d540cea22adf\">\n",
              "    <div class=\"colab-df-container\">\n",
              "      <div>\n",
              "<style scoped>\n",
              "    .dataframe tbody tr th:only-of-type {\n",
              "        vertical-align: middle;\n",
              "    }\n",
              "\n",
              "    .dataframe tbody tr th {\n",
              "        vertical-align: top;\n",
              "    }\n",
              "\n",
              "    .dataframe thead th {\n",
              "        text-align: right;\n",
              "    }\n",
              "</style>\n",
              "<table border=\"1\" class=\"dataframe\">\n",
              "  <thead>\n",
              "    <tr style=\"text-align: right;\">\n",
              "      <th></th>\n",
              "      <th>booking_date</th>\n",
              "      <th>booking_count</th>\n",
              "    </tr>\n",
              "    <tr>\n",
              "      <th>booking_date</th>\n",
              "      <th></th>\n",
              "      <th></th>\n",
              "    </tr>\n",
              "  </thead>\n",
              "  <tbody>\n",
              "    <tr>\n",
              "      <th>2013-06-01</th>\n",
              "      <td>2013-06-01</td>\n",
              "      <td>1</td>\n",
              "    </tr>\n",
              "    <tr>\n",
              "      <th>2013-07-01</th>\n",
              "      <td>2013-07-01</td>\n",
              "      <td>0</td>\n",
              "    </tr>\n",
              "    <tr>\n",
              "      <th>2013-08-01</th>\n",
              "      <td>2013-08-01</td>\n",
              "      <td>0</td>\n",
              "    </tr>\n",
              "    <tr>\n",
              "      <th>2013-09-01</th>\n",
              "      <td>2013-09-01</td>\n",
              "      <td>0</td>\n",
              "    </tr>\n",
              "    <tr>\n",
              "      <th>2013-10-01</th>\n",
              "      <td>2013-10-01</td>\n",
              "      <td>0</td>\n",
              "    </tr>\n",
              "    <tr>\n",
              "      <th>2013-11-01</th>\n",
              "      <td>2013-11-01</td>\n",
              "      <td>0</td>\n",
              "    </tr>\n",
              "    <tr>\n",
              "      <th>2013-12-01</th>\n",
              "      <td>2013-12-01</td>\n",
              "      <td>0</td>\n",
              "    </tr>\n",
              "    <tr>\n",
              "      <th>2014-01-01</th>\n",
              "      <td>2014-01-01</td>\n",
              "      <td>0</td>\n",
              "    </tr>\n",
              "    <tr>\n",
              "      <th>2014-02-01</th>\n",
              "      <td>2014-02-01</td>\n",
              "      <td>0</td>\n",
              "    </tr>\n",
              "    <tr>\n",
              "      <th>2014-03-01</th>\n",
              "      <td>2014-03-01</td>\n",
              "      <td>1</td>\n",
              "    </tr>\n",
              "  </tbody>\n",
              "</table>\n",
              "</div>\n",
              "      <button class=\"colab-df-convert\" onclick=\"convertToInteractive('df-e3786908-ad64-43c2-8bb2-d540cea22adf')\"\n",
              "              title=\"Convert this dataframe to an interactive table.\"\n",
              "              style=\"display:none;\">\n",
              "        \n",
              "  <svg xmlns=\"http://www.w3.org/2000/svg\" height=\"24px\"viewBox=\"0 0 24 24\"\n",
              "       width=\"24px\">\n",
              "    <path d=\"M0 0h24v24H0V0z\" fill=\"none\"/>\n",
              "    <path d=\"M18.56 5.44l.94 2.06.94-2.06 2.06-.94-2.06-.94-.94-2.06-.94 2.06-2.06.94zm-11 1L8.5 8.5l.94-2.06 2.06-.94-2.06-.94L8.5 2.5l-.94 2.06-2.06.94zm10 10l.94 2.06.94-2.06 2.06-.94-2.06-.94-.94-2.06-.94 2.06-2.06.94z\"/><path d=\"M17.41 7.96l-1.37-1.37c-.4-.4-.92-.59-1.43-.59-.52 0-1.04.2-1.43.59L10.3 9.45l-7.72 7.72c-.78.78-.78 2.05 0 2.83L4 21.41c.39.39.9.59 1.41.59.51 0 1.02-.2 1.41-.59l7.78-7.78 2.81-2.81c.8-.78.8-2.07 0-2.86zM5.41 20L4 18.59l7.72-7.72 1.47 1.35L5.41 20z\"/>\n",
              "  </svg>\n",
              "      </button>\n",
              "      \n",
              "  <style>\n",
              "    .colab-df-container {\n",
              "      display:flex;\n",
              "      flex-wrap:wrap;\n",
              "      gap: 12px;\n",
              "    }\n",
              "\n",
              "    .colab-df-convert {\n",
              "      background-color: #E8F0FE;\n",
              "      border: none;\n",
              "      border-radius: 50%;\n",
              "      cursor: pointer;\n",
              "      display: none;\n",
              "      fill: #1967D2;\n",
              "      height: 32px;\n",
              "      padding: 0 0 0 0;\n",
              "      width: 32px;\n",
              "    }\n",
              "\n",
              "    .colab-df-convert:hover {\n",
              "      background-color: #E2EBFA;\n",
              "      box-shadow: 0px 1px 2px rgba(60, 64, 67, 0.3), 0px 1px 3px 1px rgba(60, 64, 67, 0.15);\n",
              "      fill: #174EA6;\n",
              "    }\n",
              "\n",
              "    [theme=dark] .colab-df-convert {\n",
              "      background-color: #3B4455;\n",
              "      fill: #D2E3FC;\n",
              "    }\n",
              "\n",
              "    [theme=dark] .colab-df-convert:hover {\n",
              "      background-color: #434B5C;\n",
              "      box-shadow: 0px 1px 3px 1px rgba(0, 0, 0, 0.15);\n",
              "      filter: drop-shadow(0px 1px 2px rgba(0, 0, 0, 0.3));\n",
              "      fill: #FFFFFF;\n",
              "    }\n",
              "  </style>\n",
              "\n",
              "      <script>\n",
              "        const buttonEl =\n",
              "          document.querySelector('#df-e3786908-ad64-43c2-8bb2-d540cea22adf button.colab-df-convert');\n",
              "        buttonEl.style.display =\n",
              "          google.colab.kernel.accessAllowed ? 'block' : 'none';\n",
              "\n",
              "        async function convertToInteractive(key) {\n",
              "          const element = document.querySelector('#df-e3786908-ad64-43c2-8bb2-d540cea22adf');\n",
              "          const dataTable =\n",
              "            await google.colab.kernel.invokeFunction('convertToInteractive',\n",
              "                                                     [key], {});\n",
              "          if (!dataTable) return;\n",
              "\n",
              "          const docLinkHtml = 'Like what you see? Visit the ' +\n",
              "            '<a target=\"_blank\" href=https://colab.research.google.com/notebooks/data_table.ipynb>data table notebook</a>'\n",
              "            + ' to learn more about interactive tables.';\n",
              "          element.innerHTML = '';\n",
              "          dataTable['output_type'] = 'display_data';\n",
              "          await google.colab.output.renderOutput(dataTable, element);\n",
              "          const docLink = document.createElement('div');\n",
              "          docLink.innerHTML = docLinkHtml;\n",
              "          element.appendChild(docLink);\n",
              "        }\n",
              "      </script>\n",
              "    </div>\n",
              "  </div>\n",
              "  "
            ],
            "text/plain": [
              "             booking_date  booking_count\n",
              "booking_date                            \n",
              "2013-06-01     2013-06-01              1\n",
              "2013-07-01     2013-07-01              0\n",
              "2013-08-01     2013-08-01              0\n",
              "2013-09-01     2013-09-01              0\n",
              "2013-10-01     2013-10-01              0\n",
              "2013-11-01     2013-11-01              0\n",
              "2013-12-01     2013-12-01              0\n",
              "2014-01-01     2014-01-01              0\n",
              "2014-02-01     2014-02-01              0\n",
              "2014-03-01     2014-03-01              1"
            ]
          },
          "execution_count": 55,
          "metadata": {},
          "output_type": "execute_result"
        }
      ],
      "source": [
        "decompose_sample.head(10)"
      ]
    },
    {
      "cell_type": "code",
      "execution_count": null,
      "metadata": {
        "id": "JSWm87XyxKsF"
      },
      "outputs": [],
      "source": [
        "decompose_sample['Year'] = decompose_sample['booking_date'].dt.year\n",
        "decompose_sample['Month'] = decompose_sample['booking_date'].dt.month"
      ]
    },
    {
      "cell_type": "code",
      "execution_count": null,
      "metadata": {
        "colab": {
          "base_uri": "https://localhost:8080/",
          "height": 350
        },
        "id": "Xvxs2zsdxQxv",
        "outputId": "79ed03a1-cd6b-4768-a0b3-c1abe08e3cfa"
      },
      "outputs": [
        {
          "data": {
            "image/png": "[encoded data removed]",
            "text/plain": [
              "<Figure size 1080x360 with 1 Axes>"
            ]
          },
          "metadata": {
            "needs_background": "light"
          },
          "output_type": "display_data"
        }
      ],
      "source": [
        "plt.figure(figsize=(15, 5))\n",
        "for each in decompose_sample['Year'].unique():\n",
        "    plt.plot(decompose_sample[decompose_sample['Year'] == each]['Month'],\n",
        "             decompose_sample[decompose_sample['Year'] == each]['booking_count'], marker='o', label=each)\n",
        "    \n",
        "    plt.legend(loc='best')\n",
        "    plt.xlabel('Months')\n",
        "    plt.ylabel('Monthly Bookings')\n",
        "    plt.title('Bookings Across Months')"
      ]
    },
    {
      "cell_type": "markdown",
      "metadata": {
        "id": "GFgYcOu5G2fZ"
      },
      "source": [
        "Based in the graph above, we can see that the number of bookings for 2013 and 2014 are low. The same can also be noticed on the number of bookings at the start of the year in 2015, especially in comparison to 2016 and 2017. This implies that the number of people who book early (from one to even two years) are quite low and people usually book within the year itself.\n",
        "\n",
        "\n",
        "On the other hand, we see that in 2016 and 2017, the number of bookings are both at its highest at the start of the year (January). This could be because booking at this time of year is cheaper for tourists."
      ]
    },
    {
      "cell_type": "code",
      "execution_count": null,
      "metadata": {
        "id": "ZxkPe45I9JTT"
      },
      "outputs": [],
      "source": [
        "decomp_result = seasonal_decompose(decompose_sample['booking_date'].asfreq('MS'), model='additive')"
      ]
    },
    {
      "cell_type": "code",
      "execution_count": null,
      "metadata": {
        "colab": {
          "base_uri": "https://localhost:8080/",
          "height": 874
        },
        "id": "qIK9z8nj__2Z",
        "outputId": "2e81ea80-b650-49fe-f5d6-678eb03ea6ac"
      },
      "outputs": [
        {
          "data": {
            "text/plain": [
              "Text(0.5, 1.0, 'Residuals')"
            ]
          },
          "execution_count": 27,
          "metadata": {},
          "output_type": "execute_result"
        },
        {
          "data": {
            "image/png": "[encoded data removed]",
            "text/plain": [
              "<Figure size 720x216 with 1 Axes>"
            ]
          },
          "metadata": {
            "needs_background": "light"
          },
          "output_type": "display_data"
        },
        {
          "data": {
            "image/png": "[encoded data removed]",
            "text/plain": [
              "<Figure size 720x216 with 1 Axes>"
            ]
          },
          "metadata": {
            "needs_background": "light"
          },
          "output_type": "display_data"
        },
        {
          "data": {
            "image/png": "[encoded data removed]",
            "text/plain": [
              "<Figure size 720x216 with 1 Axes>"
            ]
          },
          "metadata": {
            "needs_background": "light"
          },
          "output_type": "display_data"
        },
        {
          "data": {
            "image/png": "[encoded data removed]",
            "text/plain": [
              "<Figure size 720x216 with 1 Axes>"
            ]
          },
          "metadata": {
            "needs_background": "light"
          },
          "output_type": "display_data"
        }
      ],
      "source": [
        "plt.figure(figsize=(10,3))\n",
        "plt.plot(decomp_result.observed)\n",
        "plt.title(\"Observed\")\n",
        "plt.figure(figsize=(10,3))\n",
        "plt.plot(decomp_result.trend)\n",
        "plt.title(\"Trend\")\n",
        "plt.figure(figsize=(10,3))\n",
        "plt.plot(decomp_result.seasonal)\n",
        "plt.title(\"Seasonal\")\n",
        "plt.figure(figsize=(10,3))\n",
        "plt.plot(decomp_result.resid)\n",
        "plt.title(\"Residuals\")"
      ]
    },
    {
      "cell_type": "markdown",
      "metadata": {
        "id": "efEi-M5tturz"
      },
      "source": [
        "Based on the graphs for observed and trend, there is a linear upward trend which implies that the number of bookings increases throughout time.\n",
        "\n",
        "As for seasonality, it can be observed that there are periodic fluctuations wherein on the month of July the number of bookings start to increase and peaks during the January. This then decreases afterwards from February until June. Based on this, we can predict that a high number of bookings are to be expected in the last few quarters of the month lasting until January whereas, low bookings are to be expected afterwards. Hence, it is recommended to book our hotel resevation as early as possible during the first quarters in order to ensure ones slot for the hotel.\n",
        "\n",
        "As for the residual graph, it is taken by getting the difference between the observed value and the predicted value. It is used to validate the previous models and because there is no clear pattern for the residual graph, we can conclude the validity of our models."
      ]
    },
    {
      "cell_type": "markdown",
      "metadata": {
        "id": "tspzaixoAfYx"
      },
      "source": [
        "## Monthly Expectation"
      ]
    },
    {
      "cell_type": "markdown",
      "metadata": {
        "id": "cWxMVnO6Fk4o"
      },
      "source": [
        "In evaluating the seasonality index that was computed, we can observe  the number of booking is affected depending on the month. Wherein, the bar graph depicts whether a certain month has a positive or negative effect on the number of bookings made."
      ]
    },
    {
      "cell_type": "code",
      "execution_count": null,
      "metadata": {
        "id": "xCsTB135Aeev"
      },
      "outputs": [],
      "source": [
        "seasonality_value = decomp_result.seasonal.reset_index()"
      ]
    },
    {
      "cell_type": "code",
      "execution_count": null,
      "metadata": {
        "colab": {
          "base_uri": "https://localhost:8080/",
          "height": 1000
        },
        "id": "jpxI_nzfAjpY",
        "outputId": "cbfc460c-c4a7-4238-f67f-f923c5fac029"
      },
      "outputs": [
        {
          "data": {
            "text/html": [
              "\n",
              "  <div id=\"df-b7a1d9b4-94bb-4d75-83fb-01cc4775f4da\">\n",
              "    <div class=\"colab-df-container\">\n",
              "      <div>\n",
              "<style scoped>\n",
              "    .dataframe tbody tr th:only-of-type {\n",
              "        vertical-align: middle;\n",
              "    }\n",
              "\n",
              "    .dataframe tbody tr th {\n",
              "        vertical-align: top;\n",
              "    }\n",
              "\n",
              "    .dataframe thead th {\n",
              "        text-align: right;\n",
              "    }\n",
              "</style>\n",
              "<table border=\"1\" class=\"dataframe\">\n",
              "  <thead>\n",
              "    <tr style=\"text-align: right;\">\n",
              "      <th></th>\n",
              "      <th>booking_date</th>\n",
              "      <th>seasonal</th>\n",
              "    </tr>\n",
              "  </thead>\n",
              "  <tbody>\n",
              "    <tr>\n",
              "      <th>0</th>\n",
              "      <td>2013-06-01</td>\n",
              "      <td>-1.987500e+13</td>\n",
              "    </tr>\n",
              "    <tr>\n",
              "      <th>1</th>\n",
              "      <td>2013-07-01</td>\n",
              "      <td>-5.827500e+13</td>\n",
              "    </tr>\n",
              "    <tr>\n",
              "      <th>2</th>\n",
              "      <td>2013-08-01</td>\n",
              "      <td>-1.027500e+13</td>\n",
              "    </tr>\n",
              "    <tr>\n",
              "      <th>3</th>\n",
              "      <td>2013-09-01</td>\n",
              "      <td>3.772500e+13</td>\n",
              "    </tr>\n",
              "    <tr>\n",
              "      <th>4</th>\n",
              "      <td>2013-10-01</td>\n",
              "      <td>-6.750000e+11</td>\n",
              "    </tr>\n",
              "    <tr>\n",
              "      <th>5</th>\n",
              "      <td>2013-11-01</td>\n",
              "      <td>4.732500e+13</td>\n",
              "    </tr>\n",
              "    <tr>\n",
              "      <th>6</th>\n",
              "      <td>2013-12-01</td>\n",
              "      <td>1.102500e+13</td>\n",
              "    </tr>\n",
              "    <tr>\n",
              "      <th>7</th>\n",
              "      <td>2014-01-01</td>\n",
              "      <td>5.962500e+13</td>\n",
              "    </tr>\n",
              "    <tr>\n",
              "      <th>8</th>\n",
              "      <td>2014-02-01</td>\n",
              "      <td>1.082250e+14</td>\n",
              "    </tr>\n",
              "    <tr>\n",
              "      <th>9</th>\n",
              "      <td>2014-03-01</td>\n",
              "      <td>-7.747500e+13</td>\n",
              "    </tr>\n",
              "    <tr>\n",
              "      <th>10</th>\n",
              "      <td>2014-04-01</td>\n",
              "      <td>-2.947500e+13</td>\n",
              "    </tr>\n",
              "    <tr>\n",
              "      <th>11</th>\n",
              "      <td>2014-05-01</td>\n",
              "      <td>-6.787500e+13</td>\n",
              "    </tr>\n",
              "    <tr>\n",
              "      <th>12</th>\n",
              "      <td>2014-06-01</td>\n",
              "      <td>-1.987500e+13</td>\n",
              "    </tr>\n",
              "    <tr>\n",
              "      <th>13</th>\n",
              "      <td>2014-07-01</td>\n",
              "      <td>-5.827500e+13</td>\n",
              "    </tr>\n",
              "    <tr>\n",
              "      <th>14</th>\n",
              "      <td>2014-08-01</td>\n",
              "      <td>-1.027500e+13</td>\n",
              "    </tr>\n",
              "    <tr>\n",
              "      <th>15</th>\n",
              "      <td>2014-09-01</td>\n",
              "      <td>3.772500e+13</td>\n",
              "    </tr>\n",
              "    <tr>\n",
              "      <th>16</th>\n",
              "      <td>2014-10-01</td>\n",
              "      <td>-6.750000e+11</td>\n",
              "    </tr>\n",
              "    <tr>\n",
              "      <th>17</th>\n",
              "      <td>2014-11-01</td>\n",
              "      <td>4.732500e+13</td>\n",
              "    </tr>\n",
              "    <tr>\n",
              "      <th>18</th>\n",
              "      <td>2014-12-01</td>\n",
              "      <td>1.102500e+13</td>\n",
              "    </tr>\n",
              "    <tr>\n",
              "      <th>19</th>\n",
              "      <td>2015-01-01</td>\n",
              "      <td>5.962500e+13</td>\n",
              "    </tr>\n",
              "    <tr>\n",
              "      <th>20</th>\n",
              "      <td>2015-02-01</td>\n",
              "      <td>1.082250e+14</td>\n",
              "    </tr>\n",
              "    <tr>\n",
              "      <th>21</th>\n",
              "      <td>2015-03-01</td>\n",
              "      <td>-7.747500e+13</td>\n",
              "    </tr>\n",
              "    <tr>\n",
              "      <th>22</th>\n",
              "      <td>2015-04-01</td>\n",
              "      <td>-2.947500e+13</td>\n",
              "    </tr>\n",
              "    <tr>\n",
              "      <th>23</th>\n",
              "      <td>2015-05-01</td>\n",
              "      <td>-6.787500e+13</td>\n",
              "    </tr>\n",
              "    <tr>\n",
              "      <th>24</th>\n",
              "      <td>2015-06-01</td>\n",
              "      <td>-1.987500e+13</td>\n",
              "    </tr>\n",
              "    <tr>\n",
              "      <th>25</th>\n",
              "      <td>2015-07-01</td>\n",
              "      <td>-5.827500e+13</td>\n",
              "    </tr>\n",
              "    <tr>\n",
              "      <th>26</th>\n",
              "      <td>2015-08-01</td>\n",
              "      <td>-1.027500e+13</td>\n",
              "    </tr>\n",
              "    <tr>\n",
              "      <th>27</th>\n",
              "      <td>2015-09-01</td>\n",
              "      <td>3.772500e+13</td>\n",
              "    </tr>\n",
              "    <tr>\n",
              "      <th>28</th>\n",
              "      <td>2015-10-01</td>\n",
              "      <td>-6.750000e+11</td>\n",
              "    </tr>\n",
              "    <tr>\n",
              "      <th>29</th>\n",
              "      <td>2015-11-01</td>\n",
              "      <td>4.732500e+13</td>\n",
              "    </tr>\n",
              "    <tr>\n",
              "      <th>30</th>\n",
              "      <td>2015-12-01</td>\n",
              "      <td>1.102500e+13</td>\n",
              "    </tr>\n",
              "    <tr>\n",
              "      <th>31</th>\n",
              "      <td>2016-01-01</td>\n",
              "      <td>5.962500e+13</td>\n",
              "    </tr>\n",
              "    <tr>\n",
              "      <th>32</th>\n",
              "      <td>2016-02-01</td>\n",
              "      <td>1.082250e+14</td>\n",
              "    </tr>\n",
              "    <tr>\n",
              "      <th>33</th>\n",
              "      <td>2016-03-01</td>\n",
              "      <td>-7.747500e+13</td>\n",
              "    </tr>\n",
              "    <tr>\n",
              "      <th>34</th>\n",
              "      <td>2016-04-01</td>\n",
              "      <td>-2.947500e+13</td>\n",
              "    </tr>\n",
              "    <tr>\n",
              "      <th>35</th>\n",
              "      <td>2016-05-01</td>\n",
              "      <td>-6.787500e+13</td>\n",
              "    </tr>\n",
              "    <tr>\n",
              "      <th>36</th>\n",
              "      <td>2016-06-01</td>\n",
              "      <td>-1.987500e+13</td>\n",
              "    </tr>\n",
              "    <tr>\n",
              "      <th>37</th>\n",
              "      <td>2016-07-01</td>\n",
              "      <td>-5.827500e+13</td>\n",
              "    </tr>\n",
              "    <tr>\n",
              "      <th>38</th>\n",
              "      <td>2016-08-01</td>\n",
              "      <td>-1.027500e+13</td>\n",
              "    </tr>\n",
              "    <tr>\n",
              "      <th>39</th>\n",
              "      <td>2016-09-01</td>\n",
              "      <td>3.772500e+13</td>\n",
              "    </tr>\n",
              "    <tr>\n",
              "      <th>40</th>\n",
              "      <td>2016-10-01</td>\n",
              "      <td>-6.750000e+11</td>\n",
              "    </tr>\n",
              "    <tr>\n",
              "      <th>41</th>\n",
              "      <td>2016-11-01</td>\n",
              "      <td>4.732500e+13</td>\n",
              "    </tr>\n",
              "    <tr>\n",
              "      <th>42</th>\n",
              "      <td>2016-12-01</td>\n",
              "      <td>1.102500e+13</td>\n",
              "    </tr>\n",
              "    <tr>\n",
              "      <th>43</th>\n",
              "      <td>2017-01-01</td>\n",
              "      <td>5.962500e+13</td>\n",
              "    </tr>\n",
              "    <tr>\n",
              "      <th>44</th>\n",
              "      <td>2017-02-01</td>\n",
              "      <td>1.082250e+14</td>\n",
              "    </tr>\n",
              "    <tr>\n",
              "      <th>45</th>\n",
              "      <td>2017-03-01</td>\n",
              "      <td>-7.747500e+13</td>\n",
              "    </tr>\n",
              "    <tr>\n",
              "      <th>46</th>\n",
              "      <td>2017-04-01</td>\n",
              "      <td>-2.947500e+13</td>\n",
              "    </tr>\n",
              "    <tr>\n",
              "      <th>47</th>\n",
              "      <td>2017-05-01</td>\n",
              "      <td>-6.787500e+13</td>\n",
              "    </tr>\n",
              "    <tr>\n",
              "      <th>48</th>\n",
              "      <td>2017-06-01</td>\n",
              "      <td>-1.987500e+13</td>\n",
              "    </tr>\n",
              "    <tr>\n",
              "      <th>49</th>\n",
              "      <td>2017-07-01</td>\n",
              "      <td>-5.827500e+13</td>\n",
              "    </tr>\n",
              "    <tr>\n",
              "      <th>50</th>\n",
              "      <td>2017-08-01</td>\n",
              "      <td>-1.027500e+13</td>\n",
              "    </tr>\n",
              "  </tbody>\n",
              "</table>\n",
              "</div>\n",
              "      <button class=\"colab-df-convert\" onclick=\"convertToInteractive('df-b7a1d9b4-94bb-4d75-83fb-01cc4775f4da')\"\n",
              "              title=\"Convert this dataframe to an interactive table.\"\n",
              "              style=\"display:none;\">\n",
              "        \n",
              "  <svg xmlns=\"http://www.w3.org/2000/svg\" height=\"24px\"viewBox=\"0 0 24 24\"\n",
              "       width=\"24px\">\n",
              "    <path d=\"M0 0h24v24H0V0z\" fill=\"none\"/>\n",
              "    <path d=\"M18.56 5.44l.94 2.06.94-2.06 2.06-.94-2.06-.94-.94-2.06-.94 2.06-2.06.94zm-11 1L8.5 8.5l.94-2.06 2.06-.94-2.06-.94L8.5 2.5l-.94 2.06-2.06.94zm10 10l.94 2.06.94-2.06 2.06-.94-2.06-.94-.94-2.06-.94 2.06-2.06.94z\"/><path d=\"M17.41 7.96l-1.37-1.37c-.4-.4-.92-.59-1.43-.59-.52 0-1.04.2-1.43.59L10.3 9.45l-7.72 7.72c-.78.78-.78 2.05 0 2.83L4 21.41c.39.39.9.59 1.41.59.51 0 1.02-.2 1.41-.59l7.78-7.78 2.81-2.81c.8-.78.8-2.07 0-2.86zM5.41 20L4 18.59l7.72-7.72 1.47 1.35L5.41 20z\"/>\n",
              "  </svg>\n",
              "      </button>\n",
              "      \n",
              "  <style>\n",
              "    .colab-df-container {\n",
              "      display:flex;\n",
              "      flex-wrap:wrap;\n",
              "      gap: 12px;\n",
              "    }\n",
              "\n",
              "    .colab-df-convert {\n",
              "      background-color: #E8F0FE;\n",
              "      border: none;\n",
              "      border-radius: 50%;\n",
              "      cursor: pointer;\n",
              "      display: none;\n",
              "      fill: #1967D2;\n",
              "      height: 32px;\n",
              "      padding: 0 0 0 0;\n",
              "      width: 32px;\n",
              "    }\n",
              "\n",
              "    .colab-df-convert:hover {\n",
              "      background-color: #E2EBFA;\n",
              "      box-shadow: 0px 1px 2px rgba(60, 64, 67, 0.3), 0px 1px 3px 1px rgba(60, 64, 67, 0.15);\n",
              "      fill: #174EA6;\n",
              "    }\n",
              "\n",
              "    [theme=dark] .colab-df-convert {\n",
              "      background-color: #3B4455;\n",
              "      fill: #D2E3FC;\n",
              "    }\n",
              "\n",
              "    [theme=dark] .colab-df-convert:hover {\n",
              "      background-color: #434B5C;\n",
              "      box-shadow: 0px 1px 3px 1px rgba(0, 0, 0, 0.15);\n",
              "      filter: drop-shadow(0px 1px 2px rgba(0, 0, 0, 0.3));\n",
              "      fill: #FFFFFF;\n",
              "    }\n",
              "  </style>\n",
              "\n",
              "      <script>\n",
              "        const buttonEl =\n",
              "          document.querySelector('#df-b7a1d9b4-94bb-4d75-83fb-01cc4775f4da button.colab-df-convert');\n",
              "        buttonEl.style.display =\n",
              "          google.colab.kernel.accessAllowed ? 'block' : 'none';\n",
              "\n",
              "        async function convertToInteractive(key) {\n",
              "          const element = document.querySelector('#df-b7a1d9b4-94bb-4d75-83fb-01cc4775f4da');\n",
              "          const dataTable =\n",
              "            await google.colab.kernel.invokeFunction('convertToInteractive',\n",
              "                                                     [key], {});\n",
              "          if (!dataTable) return;\n",
              "\n",
              "          const docLinkHtml = 'Like what you see? Visit the ' +\n",
              "            '<a target=\"_blank\" href=https://colab.research.google.com/notebooks/data_table.ipynb>data table notebook</a>'\n",
              "            + ' to learn more about interactive tables.';\n",
              "          element.innerHTML = '';\n",
              "          dataTable['output_type'] = 'display_data';\n",
              "          await google.colab.output.renderOutput(dataTable, element);\n",
              "          const docLink = document.createElement('div');\n",
              "          docLink.innerHTML = docLinkHtml;\n",
              "          element.appendChild(docLink);\n",
              "        }\n",
              "      </script>\n",
              "    </div>\n",
              "  </div>\n",
              "  "
            ],
            "text/plain": [
              "   booking_date      seasonal\n",
              "0    2013-06-01 -1.987500e+13\n",
              "1    2013-07-01 -5.827500e+13\n",
              "2    2013-08-01 -1.027500e+13\n",
              "3    2013-09-01  3.772500e+13\n",
              "4    2013-10-01 -6.750000e+11\n",
              "5    2013-11-01  4.732500e+13\n",
              "6    2013-12-01  1.102500e+13\n",
              "7    2014-01-01  5.962500e+13\n",
              "8    2014-02-01  1.082250e+14\n",
              "9    2014-03-01 -7.747500e+13\n",
              "10   2014-04-01 -2.947500e+13\n",
              "11   2014-05-01 -6.787500e+13\n",
              "12   2014-06-01 -1.987500e+13\n",
              "13   2014-07-01 -5.827500e+13\n",
              "14   2014-08-01 -1.027500e+13\n",
              "15   2014-09-01  3.772500e+13\n",
              "16   2014-10-01 -6.750000e+11\n",
              "17   2014-11-01  4.732500e+13\n",
              "18   2014-12-01  1.102500e+13\n",
              "19   2015-01-01  5.962500e+13\n",
              "20   2015-02-01  1.082250e+14\n",
              "21   2015-03-01 -7.747500e+13\n",
              "22   2015-04-01 -2.947500e+13\n",
              "23   2015-05-01 -6.787500e+13\n",
              "24   2015-06-01 -1.987500e+13\n",
              "25   2015-07-01 -5.827500e+13\n",
              "26   2015-08-01 -1.027500e+13\n",
              "27   2015-09-01  3.772500e+13\n",
              "28   2015-10-01 -6.750000e+11\n",
              "29   2015-11-01  4.732500e+13\n",
              "30   2015-12-01  1.102500e+13\n",
              "31   2016-01-01  5.962500e+13\n",
              "32   2016-02-01  1.082250e+14\n",
              "33   2016-03-01 -7.747500e+13\n",
              "34   2016-04-01 -2.947500e+13\n",
              "35   2016-05-01 -6.787500e+13\n",
              "36   2016-06-01 -1.987500e+13\n",
              "37   2016-07-01 -5.827500e+13\n",
              "38   2016-08-01 -1.027500e+13\n",
              "39   2016-09-01  3.772500e+13\n",
              "40   2016-10-01 -6.750000e+11\n",
              "41   2016-11-01  4.732500e+13\n",
              "42   2016-12-01  1.102500e+13\n",
              "43   2017-01-01  5.962500e+13\n",
              "44   2017-02-01  1.082250e+14\n",
              "45   2017-03-01 -7.747500e+13\n",
              "46   2017-04-01 -2.947500e+13\n",
              "47   2017-05-01 -6.787500e+13\n",
              "48   2017-06-01 -1.987500e+13\n",
              "49   2017-07-01 -5.827500e+13\n",
              "50   2017-08-01 -1.027500e+13"
            ]
          },
          "execution_count": 29,
          "metadata": {},
          "output_type": "execute_result"
        }
      ],
      "source": [
        "seasonality_value"
      ]
    },
    {
      "cell_type": "code",
      "execution_count": null,
      "metadata": {
        "id": "fh2IdDvHAnuU"
      },
      "outputs": [],
      "source": [
        "seasonality_value['Month'] = seasonality_value['booking_date'].dt.month\n",
        "seasonality_value = seasonality_value[['seasonal', 'Month']].drop_duplicates()"
      ]
    },
    {
      "cell_type": "code",
      "execution_count": null,
      "metadata": {
        "colab": {
          "base_uri": "https://localhost:8080/",
          "height": 421
        },
        "id": "yfJ8rIS2AsRu",
        "outputId": "ca9fb75a-9b49-4eb7-cc06-bb6e8d0e79a4"
      },
      "outputs": [
        {
          "data": {
            "text/html": [
              "\n",
              "  <div id=\"df-2eb0fa45-95f7-4967-a946-76fa2b1b84d0\">\n",
              "    <div class=\"colab-df-container\">\n",
              "      <div>\n",
              "<style scoped>\n",
              "    .dataframe tbody tr th:only-of-type {\n",
              "        vertical-align: middle;\n",
              "    }\n",
              "\n",
              "    .dataframe tbody tr th {\n",
              "        vertical-align: top;\n",
              "    }\n",
              "\n",
              "    .dataframe thead th {\n",
              "        text-align: right;\n",
              "    }\n",
              "</style>\n",
              "<table border=\"1\" class=\"dataframe\">\n",
              "  <thead>\n",
              "    <tr style=\"text-align: right;\">\n",
              "      <th></th>\n",
              "      <th>seasonal</th>\n",
              "      <th>Month</th>\n",
              "    </tr>\n",
              "  </thead>\n",
              "  <tbody>\n",
              "    <tr>\n",
              "      <th>0</th>\n",
              "      <td>-1.987500e+13</td>\n",
              "      <td>6</td>\n",
              "    </tr>\n",
              "    <tr>\n",
              "      <th>1</th>\n",
              "      <td>-5.827500e+13</td>\n",
              "      <td>7</td>\n",
              "    </tr>\n",
              "    <tr>\n",
              "      <th>2</th>\n",
              "      <td>-1.027500e+13</td>\n",
              "      <td>8</td>\n",
              "    </tr>\n",
              "    <tr>\n",
              "      <th>3</th>\n",
              "      <td>3.772500e+13</td>\n",
              "      <td>9</td>\n",
              "    </tr>\n",
              "    <tr>\n",
              "      <th>4</th>\n",
              "      <td>-6.750000e+11</td>\n",
              "      <td>10</td>\n",
              "    </tr>\n",
              "    <tr>\n",
              "      <th>5</th>\n",
              "      <td>4.732500e+13</td>\n",
              "      <td>11</td>\n",
              "    </tr>\n",
              "    <tr>\n",
              "      <th>6</th>\n",
              "      <td>1.102500e+13</td>\n",
              "      <td>12</td>\n",
              "    </tr>\n",
              "    <tr>\n",
              "      <th>7</th>\n",
              "      <td>5.962500e+13</td>\n",
              "      <td>1</td>\n",
              "    </tr>\n",
              "    <tr>\n",
              "      <th>8</th>\n",
              "      <td>1.082250e+14</td>\n",
              "      <td>2</td>\n",
              "    </tr>\n",
              "    <tr>\n",
              "      <th>9</th>\n",
              "      <td>-7.747500e+13</td>\n",
              "      <td>3</td>\n",
              "    </tr>\n",
              "    <tr>\n",
              "      <th>10</th>\n",
              "      <td>-2.947500e+13</td>\n",
              "      <td>4</td>\n",
              "    </tr>\n",
              "    <tr>\n",
              "      <th>11</th>\n",
              "      <td>-6.787500e+13</td>\n",
              "      <td>5</td>\n",
              "    </tr>\n",
              "  </tbody>\n",
              "</table>\n",
              "</div>\n",
              "      <button class=\"colab-df-convert\" onclick=\"convertToInteractive('df-2eb0fa45-95f7-4967-a946-76fa2b1b84d0')\"\n",
              "              title=\"Convert this dataframe to an interactive table.\"\n",
              "              style=\"display:none;\">\n",
              "        \n",
              "  <svg xmlns=\"http://www.w3.org/2000/svg\" height=\"24px\"viewBox=\"0 0 24 24\"\n",
              "       width=\"24px\">\n",
              "    <path d=\"M0 0h24v24H0V0z\" fill=\"none\"/>\n",
              "    <path d=\"M18.56 5.44l.94 2.06.94-2.06 2.06-.94-2.06-.94-.94-2.06-.94 2.06-2.06.94zm-11 1L8.5 8.5l.94-2.06 2.06-.94-2.06-.94L8.5 2.5l-.94 2.06-2.06.94zm10 10l.94 2.06.94-2.06 2.06-.94-2.06-.94-.94-2.06-.94 2.06-2.06.94z\"/><path d=\"M17.41 7.96l-1.37-1.37c-.4-.4-.92-.59-1.43-.59-.52 0-1.04.2-1.43.59L10.3 9.45l-7.72 7.72c-.78.78-.78 2.05 0 2.83L4 21.41c.39.39.9.59 1.41.59.51 0 1.02-.2 1.41-.59l7.78-7.78 2.81-2.81c.8-.78.8-2.07 0-2.86zM5.41 20L4 18.59l7.72-7.72 1.47 1.35L5.41 20z\"/>\n",
              "  </svg>\n",
              "      </button>\n",
              "      \n",
              "  <style>\n",
              "    .colab-df-container {\n",
              "      display:flex;\n",
              "      flex-wrap:wrap;\n",
              "      gap: 12px;\n",
              "    }\n",
              "\n",
              "    .colab-df-convert {\n",
              "      background-color: #E8F0FE;\n",
              "      border: none;\n",
              "      border-radius: 50%;\n",
              "      cursor: pointer;\n",
              "      display: none;\n",
              "      fill: #1967D2;\n",
              "      height: 32px;\n",
              "      padding: 0 0 0 0;\n",
              "      width: 32px;\n",
              "    }\n",
              "\n",
              "    .colab-df-convert:hover {\n",
              "      background-color: #E2EBFA;\n",
              "      box-shadow: 0px 1px 2px rgba(60, 64, 67, 0.3), 0px 1px 3px 1px rgba(60, 64, 67, 0.15);\n",
              "      fill: #174EA6;\n",
              "    }\n",
              "\n",
              "    [theme=dark] .colab-df-convert {\n",
              "      background-color: #3B4455;\n",
              "      fill: #D2E3FC;\n",
              "    }\n",
              "\n",
              "    [theme=dark] .colab-df-convert:hover {\n",
              "      background-color: #434B5C;\n",
              "      box-shadow: 0px 1px 3px 1px rgba(0, 0, 0, 0.15);\n",
              "      filter: drop-shadow(0px 1px 2px rgba(0, 0, 0, 0.3));\n",
              "      fill: #FFFFFF;\n",
              "    }\n",
              "  </style>\n",
              "\n",
              "      <script>\n",
              "        const buttonEl =\n",
              "          document.querySelector('#df-2eb0fa45-95f7-4967-a946-76fa2b1b84d0 button.colab-df-convert');\n",
              "        buttonEl.style.display =\n",
              "          google.colab.kernel.accessAllowed ? 'block' : 'none';\n",
              "\n",
              "        async function convertToInteractive(key) {\n",
              "          const element = document.querySelector('#df-2eb0fa45-95f7-4967-a946-76fa2b1b84d0');\n",
              "          const dataTable =\n",
              "            await google.colab.kernel.invokeFunction('convertToInteractive',\n",
              "                                                     [key], {});\n",
              "          if (!dataTable) return;\n",
              "\n",
              "          const docLinkHtml = 'Like what you see? Visit the ' +\n",
              "            '<a target=\"_blank\" href=https://colab.research.google.com/notebooks/data_table.ipynb>data table notebook</a>'\n",
              "            + ' to learn more about interactive tables.';\n",
              "          element.innerHTML = '';\n",
              "          dataTable['output_type'] = 'display_data';\n",
              "          await google.colab.output.renderOutput(dataTable, element);\n",
              "          const docLink = document.createElement('div');\n",
              "          docLink.innerHTML = docLinkHtml;\n",
              "          element.appendChild(docLink);\n",
              "        }\n",
              "      </script>\n",
              "    </div>\n",
              "  </div>\n",
              "  "
            ],
            "text/plain": [
              "        seasonal  Month\n",
              "0  -1.987500e+13      6\n",
              "1  -5.827500e+13      7\n",
              "2  -1.027500e+13      8\n",
              "3   3.772500e+13      9\n",
              "4  -6.750000e+11     10\n",
              "5   4.732500e+13     11\n",
              "6   1.102500e+13     12\n",
              "7   5.962500e+13      1\n",
              "8   1.082250e+14      2\n",
              "9  -7.747500e+13      3\n",
              "10 -2.947500e+13      4\n",
              "11 -6.787500e+13      5"
            ]
          },
          "execution_count": 31,
          "metadata": {},
          "output_type": "execute_result"
        }
      ],
      "source": [
        "seasonality_value"
      ]
    },
    {
      "cell_type": "code",
      "execution_count": null,
      "metadata": {
        "colab": {
          "base_uri": "https://localhost:8080/",
          "height": 208
        },
        "id": "sF1oM468AusI",
        "outputId": "f056c65e-6a74-4da9-fb42-fab006099c1a"
      },
      "outputs": [
        {
          "data": {
            "text/plain": [
              "<BarContainer object of 7 artists>"
            ]
          },
          "execution_count": 32,
          "metadata": {},
          "output_type": "execute_result"
        },
        {
          "data": {
            "image/png": "[encoded data removed]",
            "text/plain": [
              "<Figure size 1440x216 with 1 Axes>"
            ]
          },
          "metadata": {
            "needs_background": "light"
          },
          "output_type": "display_data"
        }
      ],
      "source": [
        "plt.figure(figsize=(20,3))\n",
        "\n",
        "plt.bar(seasonality_value[seasonality_value['seasonal'] > 0]['Month'],\n",
        "        seasonality_value[seasonality_value['seasonal'] > 0]['seasonal'])\n",
        "\n",
        "plt.bar(seasonality_value[seasonality_value['seasonal'] <= 0]['Month'],\n",
        "        seasonality_value[seasonality_value['seasonal'] <= 0]['seasonal'])"
      ]
    },
    {
      "cell_type": "markdown",
      "metadata": {
        "id": "j8sXh4NwFpZD"
      },
      "source": [
        "The bar graph shows that the months of January, February, September, November and December have a positive effect on the number of bookings, with February being the highest. Wherein, there are more bookings being made in average from autumn until winter which are known to be cold months. On the other hand, during the spring (March, April and May) and the summer (June, July and August), there is a negative effect where there are less bookings being made, with its lowest on March. In which, these months are within peak seasons where tourists normally spend their vacation. This shows that tourists normally book their stay during the beginning or end of the year to arrive at the hotel during the spring or summer."
      ]
    },
    {
      "cell_type": "markdown",
      "metadata": {
        "id": "w3i3az2lvP0u"
      },
      "source": [
        "## Augmented Dickey-Fuller Test\n"
      ]
    },
    {
      "cell_type": "markdown",
      "metadata": {
        "id": "i88BgYZG0ShK"
      },
      "source": [
        "To formally test for stationarity, we use the Augmented Dickey-Fuller Test. For the test, we will use the Average Moving results from earlier."
      ]
    },
    {
      "cell_type": "code",
      "execution_count": null,
      "metadata": {
        "colab": {
          "base_uri": "https://localhost:8080/"
        },
        "id": "ceQzSYIxWUrK",
        "outputId": "07bf82d5-8415-4cc4-daa6-f57cdac39c3a"
      },
      "outputs": [
        {
          "name": "stdout",
          "output_type": "stream",
          "text": [
            "ADF Statistic: -2.087166\n",
            "p-value: 0.249706\n",
            "Critical Values:\n",
            "\t1%: -3.437\n",
            "\t5%: -2.865\n",
            "\t10%: -2.568\n"
          ]
        }
      ],
      "source": [
        "result = adfuller(daily_agg['booking_count'].dropna())\n",
        "print('ADF Statistic: %f' % result[0])\n",
        "print('p-value: %f' % result[1])\n",
        "print('Critical Values:')\n",
        "for key, value in result[4].items():\n",
        "    print('\\t%s: %.3f' % (key, value))"
      ]
    },
    {
      "cell_type": "markdown",
      "metadata": {
        "id": "AbE8tMis1BTq"
      },
      "source": [
        "In the test results, we see that the p-value is greater than 0.05. This means that we cannot reject the null hypothesis. Therefore, the booking date time series **is not a stationary time series**. This means that the time series does have a time-dependent structure."
      ]
    },
    {
      "cell_type": "markdown",
      "metadata": {
        "id": "1AyP9rKBTnk_"
      },
      "source": [
        "# Insights and Conclusions\n",
        "Clearly state your insights and conclusions from the data to answer the research question. Make sure that the conclusion is backed up with statistical evidence using hypothesis testing."
      ]
    },
    {
      "cell_type": "markdown",
      "metadata": {
        "id": "AoguGZuNIpYE"
      },
      "source": [
        "The Augmented Dickey-Fuller test supports our findings from earlier where we saw an upward trend and seasonality.\n",
        "\n",
        "With regards to the research question, there is a pattern observed in the booking dates.\n",
        "\n",
        "January and February are observed to be the most popular months for booking. January is observed to have the highest booking count in the Moving Average and decomposed results. For seasonality, it also has a high positive seasonality value but February is notably higher. The number of bookings also slowly increases when approaching January.\n",
        "\n",
        "A decrease in bookings is observed betwen spring and summer months. This is observed in all graphs presented from the Moving Average, decomposed results, and seasonality values.\n",
        "\n",
        "Based on these results, it can be inferred that people who want to book a hotel in Portugal are likely to book within the range of the last few quarters of the year to the start of the next year. This may be because of a cheaper rate during those months. "
      ]
    }
  ],
  "metadata": {
    "colab": {
      "provenance": []
    },
    "kernelspec": {
      "display_name": "Python 3",
      "language": "python",
      "name": "python3"
    },
    "language_info": {
      "name": "python",
      "version": "3.8.9 (default, Feb 18 2022, 07:45:34) \n[Clang 13.1.6 (clang-1316.0.21.2)]"
    },
    "vscode": {
      "interpreter": {
        "hash": "20bf69066c0dd38d51965b69d5e1b6e387082e3198ba56e97997ac55f4e50ad0"
      }
    }
  },
  "nbformat": 4,
  "nbformat_minor": 0
}
